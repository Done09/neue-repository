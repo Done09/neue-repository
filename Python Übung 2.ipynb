{
 "cells": [
  {
   "cell_type": "code",
   "execution_count": null,
   "id": "86f73e0b",
   "metadata": {},
   "outputs": [
    {
     "name": "stdout",
     "output_type": "stream",
     "text": [
      "Pivot: 13\n"
     ]
    }
   ],
   "source": [
    "#bubble sort\n",
    "liste = [3, 10, 1, -3, 4]\n",
    "for i in range ( len(liste)-1):\n",
    "    for j in range (len(liste)-1-i):\n",
    "        if liste[j] > liste[j+1]:\n",
    "            liste[j], liste[j+1] = liste[j+1], liste[j]\n",
    "\n",
    "print (\"die mit bubble sort sortierte Liste ist: \", liste)"
   ]
  },
  {
   "cell_type": "code",
   "execution_count": null,
   "id": "3593f7a8",
   "metadata": {},
   "outputs": [],
   "source": [
    "#selection sort\n",
    "\n",
    "liste = [3, 10, 1, -3, 4]\n",
    "for i in range (len(liste)-1):\n",
    "    min_index = i\n",
    "    for j in range (i+1, len(liste)):\n",
    "        if liste[j] < liste[min_index]:\n",
    "            min_index = j\n",
    "    liste[i], liste[min_index] = liste[min_index], liste[i]\n",
    "\n",
    "print (\"die mit selection sort sortierte Liste ist: \", liste)\n"
   ]
  },
  {
   "cell_type": "code",
   "execution_count": 1,
   "id": "51e5385d",
   "metadata": {},
   "outputs": [
    {
     "name": "stdout",
     "output_type": "stream",
     "text": [
      " | | \n",
      "-----\n",
      " | | \n",
      "-----\n",
      " | | \n",
      "-----\n"
     ]
    },
    {
     "ename": "TypeError",
     "evalue": "pruefe_gewonnen() takes 1 positional argument but 2 were given",
     "output_type": "error",
     "traceback": [
      "\u001b[1;31m---------------------------------------------------------------------------\u001b[0m",
      "\u001b[1;31mTypeError\u001b[0m                                 Traceback (most recent call last)",
      "Cell \u001b[1;32mIn[1], line 64\u001b[0m\n\u001b[0;32m     58\u001b[0m             \u001b[38;5;28;01mbreak\u001b[39;00m\n\u001b[0;32m     62\u001b[0m         aktueller_spieler \u001b[38;5;241m=\u001b[39m \u001b[38;5;124m\"\u001b[39m\u001b[38;5;124m0\u001b[39m\u001b[38;5;124m\"\u001b[39m \u001b[38;5;28;01mif\u001b[39;00m aktueller_spieler \u001b[38;5;241m==\u001b[39m \u001b[38;5;124m\"\u001b[39m\u001b[38;5;124mX\u001b[39m\u001b[38;5;124m\"\u001b[39m \u001b[38;5;28;01melse\u001b[39;00m \u001b[38;5;124m\"\u001b[39m\u001b[38;5;124mX\u001b[39m\u001b[38;5;124m\"\u001b[39m\n\u001b[1;32m---> 64\u001b[0m spiele_tic_tac_toe()\n",
      "Cell \u001b[1;32mIn[1], line 55\u001b[0m, in \u001b[0;36mspiele_tic_tac_toe\u001b[1;34m()\u001b[0m\n\u001b[0;32m     53\u001b[0m     \u001b[38;5;28mprint\u001b[39m(\u001b[38;5;124m\"\u001b[39m\u001b[38;5;124mUngültiger Zug! Versuche es erneut.\u001b[39m\u001b[38;5;124m\"\u001b[39m)\n\u001b[0;32m     54\u001b[0m     \u001b[38;5;28;01mcontinue\u001b[39;00m\n\u001b[1;32m---> 55\u001b[0m \u001b[38;5;28;01mif\u001b[39;00m pruefe_gewonnen(brett, aktueller_spieler):\n\u001b[0;32m     56\u001b[0m     drucke_brett(brett)\n\u001b[0;32m     57\u001b[0m     \u001b[38;5;28mprint\u001b[39m(\u001b[38;5;124mf\u001b[39m\u001b[38;5;124m\"\u001b[39m\u001b[38;5;124mSpieler \u001b[39m\u001b[38;5;132;01m{\u001b[39;00maktueller_spieler\u001b[38;5;132;01m}\u001b[39;00m\u001b[38;5;124m hat gewonnen!\u001b[39m\u001b[38;5;124m\"\u001b[39m)\n",
      "\u001b[1;31mTypeError\u001b[0m: pruefe_gewonnen() takes 1 positional argument but 2 were given"
     ]
    }
   ],
   "source": [
    "# 1 Spielbrett erstellen\n",
    "def erstelle_brett():\n",
    "    brett = []\n",
    "    zeile = [\" \",\" \",\" \"]\n",
    "    for i in range(3):\n",
    "        brett.append(zeile)\n",
    "    return(brett)\n",
    "\n",
    "# 2 Spielbrett ausgeben\n",
    "def drucke_brett(brett):\n",
    "    for zeile in brett: \n",
    "        print(\"|\".join(zeile))\n",
    "        print(\"-----\")\n",
    "# 3. Zug machen\n",
    "def mache_zug(brett, spieler, zeile, spalte):\n",
    "    if brett[zeile][spalte] == \" \":\n",
    "        brett[zeile][spalte] = spieler\n",
    "        return True\n",
    "    elif brett[zeile][spalte] == \"X\" or brett[zeile][spalte] == \"O\":\n",
    "        return False\n",
    "    \n",
    "    \n",
    "# 4. Gewinn überprüfung\n",
    "def pruefe_gewonnen(brett):\n",
    "    \n",
    "    for zeile in range (3):\n",
    "        if brett[zeile][0] == brett[zeile][1] == brett[zeile][2] == spieler:\n",
    "            return True\n",
    "    \n",
    "    for spalte in range (3):\n",
    "        if brett[0][spalte] == brett[1][spalte] == brett[2][spalte] == spieler:\n",
    "            return True\n",
    "        \n",
    "    if brett[0][0] == brett[1][1] == brett[2][2] == spieler or \\\n",
    "        brett[0][2] == brett[1][1] == brett[2][0] == spieler:\n",
    "        return True\n",
    "    \n",
    "    \n",
    "        \n",
    "        \n",
    "\n",
    "\n",
    "def spiele_tic_tac_toe():\n",
    "    brett = erstelle_brett()\n",
    "    aktueller_spieler = \"X\"\n",
    "\n",
    "    while True:\n",
    "        drucke_brett(brett)\n",
    "        zeile = int(input(f\"Spieler {aktueller_spieler}, wähle deine Zeile (0-2):\"))  \n",
    "        spalte = int(input(f\"Spieler {aktueller_spieler}, wähle deine Spalte (0-2):\"))\n",
    "\n",
    "        if not mache_zug(brett, aktueller_spieler, zeile, spalte):\n",
    "            print(\"Ungültiger Zug! Versuche es erneut.\")\n",
    "            continue\n",
    "        if pruefe_gewonnen(brett, aktueller_spieler):\n",
    "            drucke_brett(brett)\n",
    "            print(f\"Spieler {aktueller_spieler} hat gewonnen!\")\n",
    "            break\n",
    "\n",
    "\n",
    "\n",
    "        aktueller_spieler = \"0\" if aktueller_spieler == \"X\" else \"X\"\n",
    "        \n",
    "spiele_tic_tac_toe()\n",
    "                      \n",
    "\n",
    " "
   ]
  },
  {
   "cell_type": "code",
   "execution_count": null,
   "id": "a607d54f",
   "metadata": {},
   "outputs": [
    {
     "name": "stdout",
     "output_type": "stream",
     "text": [
      "kein Klammerfehler\n"
     ]
    }
   ],
   "source": [
    "#Klammerfehler entdecken\n",
    "\n",
    "stack = []\n",
    "\n",
    "Ausdruck = (\"((a+b)*(c+d))\")\n",
    "\n",
    "for i in Ausdruck :\n",
    "    if i == \"(\":\n",
    "        stack.append(i)\n",
    "    elif i == \")\":\n",
    "       \n",
    "        if len(stack) == 0:\n",
    "            print(\"Klammerfehler\")\n",
    "            break\n",
    "        else:\n",
    "            stack.pop()\n",
    "if len(stack) == 0:\n",
    "    print(\"kein Klammerfehler\")"
   ]
  },
  {
   "cell_type": "code",
   "execution_count": null,
   "id": "6564bc21",
   "metadata": {},
   "outputs": [
    {
     "name": "stdout",
     "output_type": "stream",
     "text": [
      "Der Nachfolger von  Apfel ist : Birne\n",
      "Der Nachfolger von  Birne ist : Kirsche\n",
      "Der Nachfolger von  Kirsche ist : Schokolade\n"
     ]
    }
   ],
   "source": [
    "#Nachfolger Ausgaben \n",
    "\n",
    "Liste = {\"Apfel\": \"Birne\", \"Birne\": \"Kirsche\", \"Kirsche\": \"Schokolade\"}\n",
    "\n",
    "for i in Liste:\n",
    "    print(\"Der NachfolMaxiger von \", i , \"ist :\",Liste[i])"
   ]
  },
  {
   "cell_type": "code",
   "execution_count": null,
   "id": "7b1297c0",
   "metadata": {},
   "outputs": [
    {
     "name": "stdout",
     "output_type": "stream",
     "text": [
      "\n",
      " --------------------\n",
      " |   0  |  1  |  2  |\n",
      " --------------------\n",
      " |   3  |  4  |  5  |\n",
      " --------------------\n",
      " |   6  |  7  |  8  |\n",
      " --------------------\n"
     ]
    }
   ],
   "source": [
    "#Tic tac toe\n",
    "\n",
    "def spielfeld ():\n",
    "\n",
    "    for i in range (9):\n",
    "        if i % 3 == 0 :\n",
    "            print(\"\\n\"\"\",\"--------------------\")\n",
    "        if i % 3 == 0:\n",
    "            print(\" | \", end=\"\")\n",
    "        print(\" \", i, \" \", end=\"|\")\n",
    "        if i == 8:\n",
    "            print(\"\\n\"\"\",\"--------------------\")\n",
    "\n",
    "def spieler1():\n",
    "    "
   ]
  }
 ],
 "metadata": {
  "kernelspec": {
   "display_name": "base",
   "language": "python",
   "name": "python3"
  },
  "language_info": {
   "codemirror_mode": {
    "name": "ipython",
    "version": 3
   },
   "file_extension": ".py",
   "mimetype": "text/x-python",
   "name": "python",
   "nbconvert_exporter": "python",
   "pygments_lexer": "ipython3",
   "version": "3.12.7"
  }
 },
 "nbformat": 4,
 "nbformat_minor": 5
}
