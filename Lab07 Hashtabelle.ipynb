{
 "cells": [
  {
   "cell_type": "markdown",
   "metadata": {
    "id": "mKqYxryzDJjM"
   },
   "source": [
    "# INF2 07 Hashtabelle\n",
    "In dieser Übung implementieren Sie eine Hashtabelle mit Chaining zur Kollisionsbehandlung."
   ]
  },
  {
   "cell_type": "code",
   "execution_count": 5,
   "metadata": {
    "executionInfo": {
     "elapsed": 9,
     "status": "ok",
     "timestamp": 1747118044992,
     "user": {
      "displayName": "Tobias Schaffer",
      "userId": "09009542802022320095"
     },
     "user_tz": -120
    },
    "id": "9FnXSts9DJpE"
   },
   "outputs": [],
   "source": [
    "class HashTable:\n",
    "    def __init__(self, size):\n",
    "        self.size = size\n",
    "        self.table = [[] for _ in range(size)]\n",
    "\n",
    "    def hash(self, key):\n",
    "        return hash(key) % self.size\n",
    "\n",
    "    def insert(self, key, value):\n",
    "        index = self.hash(key) # index holen\n",
    "        self.table[index].append((key, value)) # Tabellenplatz bei berechneten Index \n",
    "        \n",
    "        return\n",
    "\n",
    "    def get(self, key):\n",
    "        index = self.hash(key)\n",
    "        if index < 0 or index >= self.size:\n",
    "            return None\n",
    "        return\n",
    "\n",
    "    def remove(self, key):\n",
    " \n",
    "        return\n",
    "\n",
    "    def clear(self):\n",
    "        self.table = [[] for _ in range(self.size)]\n",
    "        return\n",
    "\n",
    "    def __repr__(self):\n",
    "        return str(self.table)\n"
   ]
  },
  {
   "cell_type": "markdown",
   "metadata": {
    "id": "NSyO1M-RDL7E"
   },
   "source": [
    "### Testfälle"
   ]
  },
  {
   "cell_type": "code",
   "execution_count": 6,
   "metadata": {
    "colab": {
     "base_uri": "https://localhost:8080/"
    },
    "executionInfo": {
     "elapsed": 23,
     "status": "ok",
     "timestamp": 1747118045017,
     "user": {
      "displayName": "Tobias Schaffer",
      "userId": "09009542802022320095"
     },
     "user_tz": -120
    },
    "id": "BZ1WnOwcDKQ1",
    "outputId": "0a36dacc-a61e-4c81-8042-207e807a35ef"
   },
   "outputs": [
    {
     "name": "stdout",
     "output_type": "stream",
     "text": [
      "[[], [], [], [], [], [], [], [], [], []]\n",
      "[[], [], [], [('Banane', 2)], [], [('Zitrone', 3)], [], [], [('Apfel', 1)], []]\n",
      "[[], [], [], [('Banane', 2)], [], [('Zitrone', 3)], [], [], [('Apfel', 1), ('Apfel', 4)], []]\n",
      "None\n",
      "None\n",
      "[[], [], [], [('Banane', 2)], [], [('Zitrone', 3)], [], [], [('Apfel', 1), ('Apfel', 4)], []]\n",
      "[[], [('Erdbeere', 6)], [], [('Banane', 2)], [], [('Zitrone', 3), ('Orange', 5)], [], [], [('Apfel', 1), ('Apfel', 4)], []]\n",
      "None\n"
     ]
    }
   ],
   "source": [
    "# Erzeuge neue Hashtabelle der Länge 10\n",
    "ht = HashTable(10)\n",
    "print(ht)\n",
    "\n",
    "# Einfügen\n",
    "ht.insert(\"Apfel\", 1)\n",
    "ht.insert(\"Banane\", 2)\n",
    "ht.insert(\"Zitrone\", 3)\n",
    "print(ht)\n",
    "\n",
    "# Überschreiben\n",
    "ht.insert(\"Apfel\", 4)\n",
    "print(ht)\n",
    "\n",
    "# Auslesen\n",
    "print(ht.get(\"Apfel\"))  # Erwartet: 4\n",
    "\n",
    "# Entfernen\n",
    "ht.remove(\"Banane\")\n",
    "print(ht.get(\"Banane\"))  # Erwartet: None\n",
    "print(ht)\n",
    "\n",
    "# Verkettung\n",
    "ht.insert(\"Orange\", 5)\n",
    "ht.insert(\"Erdbeere\", 6)  # Erwartet: Kollision und Verkettung\n",
    "print(ht)\n",
    "print(ht.get(\"Erdbeere\"))  # Erwartet: 6"
   ]
  },
  {
   "cell_type": "code",
   "execution_count": null,
   "metadata": {
    "id": "QGxioo0TUwCI"
   },
   "outputs": [],
   "source": []
  }
 ],
 "metadata": {
  "colab": {
   "authorship_tag": "ABX9TyOkyYNTsXuJ23wPm0q3a9QH",
   "provenance": []
  },
  "kernelspec": {
   "display_name": "base",
   "language": "python",
   "name": "python3"
  },
  "language_info": {
   "codemirror_mode": {
    "name": "ipython",
    "version": 3
   },
   "file_extension": ".py",
   "mimetype": "text/x-python",
   "name": "python",
   "nbconvert_exporter": "python",
   "pygments_lexer": "ipython3",
   "version": "3.12.7"
  }
 },
 "nbformat": 4,
 "nbformat_minor": 0
}
