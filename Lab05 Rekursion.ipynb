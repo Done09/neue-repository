{
 "cells": [
  {
   "cell_type": "code",
   "execution_count": 20,
   "metadata": {
    "id": "i-wAbCzeHjCa"
   },
   "outputs": [
    {
     "name": "stdout",
     "output_type": "stream",
     "text": [
      "Rekursive Fibonacci (30): 0.4680751000 Sekunden\n",
      "Iterative Fibonacci (30): 0.0000169000 Sekunden\n"
     ]
    },
    {
     "ename": "TypeError",
     "evalue": "'set' object does not support item assignment",
     "output_type": "error",
     "traceback": [
      "\u001b[1;31m---------------------------------------------------------------------------\u001b[0m",
      "\u001b[1;31mTypeError\u001b[0m                                 Traceback (most recent call last)",
      "Cell \u001b[1;32mIn[20], line 37\u001b[0m\n\u001b[0;32m     35\u001b[0m \u001b[38;5;28mprint\u001b[39m(\u001b[38;5;124mf\u001b[39m\u001b[38;5;124m\"\u001b[39m\u001b[38;5;124mRekursive Fibonacci (\u001b[39m\u001b[38;5;132;01m{\u001b[39;00mn\u001b[38;5;132;01m}\u001b[39;00m\u001b[38;5;124m): \u001b[39m\u001b[38;5;132;01m{\u001b[39;00mtimeit\u001b[38;5;241m.\u001b[39mtimeit(\u001b[38;5;28;01mlambda\u001b[39;00m:\u001b[38;5;250m \u001b[39mfibonacci_rekursiv(n),\u001b[38;5;250m \u001b[39mnumber\u001b[38;5;241m=\u001b[39m\u001b[38;5;241m1\u001b[39m)\u001b[38;5;132;01m:\u001b[39;00m\u001b[38;5;124m.10f\u001b[39m\u001b[38;5;132;01m}\u001b[39;00m\u001b[38;5;124m Sekunden\u001b[39m\u001b[38;5;124m\"\u001b[39m)\n\u001b[0;32m     36\u001b[0m \u001b[38;5;28mprint\u001b[39m(\u001b[38;5;124mf\u001b[39m\u001b[38;5;124m\"\u001b[39m\u001b[38;5;124mIterative Fibonacci (\u001b[39m\u001b[38;5;132;01m{\u001b[39;00mn\u001b[38;5;132;01m}\u001b[39;00m\u001b[38;5;124m): \u001b[39m\u001b[38;5;132;01m{\u001b[39;00mtimeit\u001b[38;5;241m.\u001b[39mtimeit(\u001b[38;5;28;01mlambda\u001b[39;00m:\u001b[38;5;250m \u001b[39mfibonacci_iterativ(n),\u001b[38;5;250m \u001b[39mnumber\u001b[38;5;241m=\u001b[39m\u001b[38;5;241m1\u001b[39m)\u001b[38;5;132;01m:\u001b[39;00m\u001b[38;5;124m.10f\u001b[39m\u001b[38;5;132;01m}\u001b[39;00m\u001b[38;5;124m Sekunden\u001b[39m\u001b[38;5;124m\"\u001b[39m)\n\u001b[1;32m---> 37\u001b[0m \u001b[38;5;28mprint\u001b[39m(\u001b[38;5;124mf\u001b[39m\u001b[38;5;124m\"\u001b[39m\u001b[38;5;124mMemoized Fibonacci (\u001b[39m\u001b[38;5;132;01m{\u001b[39;00mn\u001b[38;5;132;01m}\u001b[39;00m\u001b[38;5;124m): \u001b[39m\u001b[38;5;132;01m{\u001b[39;00mtimeit\u001b[38;5;241m.\u001b[39mtimeit(\u001b[38;5;28;01mlambda\u001b[39;00m:\u001b[38;5;250m \u001b[39mfibonacci_rek_memo(n),\u001b[38;5;250m \u001b[39mnumber\u001b[38;5;241m=\u001b[39m\u001b[38;5;241m1\u001b[39m)\u001b[38;5;132;01m:\u001b[39;00m\u001b[38;5;124m.10f\u001b[39m\u001b[38;5;132;01m}\u001b[39;00m\u001b[38;5;124m Sekunden\u001b[39m\u001b[38;5;124m\"\u001b[39m)\n",
      "File \u001b[1;32m~\\anaconda3\\Lib\\timeit.py:237\u001b[0m, in \u001b[0;36mtimeit\u001b[1;34m(stmt, setup, timer, number, globals)\u001b[0m\n\u001b[0;32m    234\u001b[0m \u001b[38;5;28;01mdef\u001b[39;00m \u001b[38;5;21mtimeit\u001b[39m(stmt\u001b[38;5;241m=\u001b[39m\u001b[38;5;124m\"\u001b[39m\u001b[38;5;124mpass\u001b[39m\u001b[38;5;124m\"\u001b[39m, setup\u001b[38;5;241m=\u001b[39m\u001b[38;5;124m\"\u001b[39m\u001b[38;5;124mpass\u001b[39m\u001b[38;5;124m\"\u001b[39m, timer\u001b[38;5;241m=\u001b[39mdefault_timer,\n\u001b[0;32m    235\u001b[0m            number\u001b[38;5;241m=\u001b[39mdefault_number, \u001b[38;5;28mglobals\u001b[39m\u001b[38;5;241m=\u001b[39m\u001b[38;5;28;01mNone\u001b[39;00m):\n\u001b[0;32m    236\u001b[0m \u001b[38;5;250m    \u001b[39m\u001b[38;5;124;03m\"\"\"Convenience function to create Timer object and call timeit method.\"\"\"\u001b[39;00m\n\u001b[1;32m--> 237\u001b[0m     \u001b[38;5;28;01mreturn\u001b[39;00m Timer(stmt, setup, timer, \u001b[38;5;28mglobals\u001b[39m)\u001b[38;5;241m.\u001b[39mtimeit(number)\n",
      "File \u001b[1;32m~\\anaconda3\\Lib\\timeit.py:180\u001b[0m, in \u001b[0;36mTimer.timeit\u001b[1;34m(self, number)\u001b[0m\n\u001b[0;32m    178\u001b[0m gc\u001b[38;5;241m.\u001b[39mdisable()\n\u001b[0;32m    179\u001b[0m \u001b[38;5;28;01mtry\u001b[39;00m:\n\u001b[1;32m--> 180\u001b[0m     timing \u001b[38;5;241m=\u001b[39m \u001b[38;5;28mself\u001b[39m\u001b[38;5;241m.\u001b[39minner(it, \u001b[38;5;28mself\u001b[39m\u001b[38;5;241m.\u001b[39mtimer)\n\u001b[0;32m    181\u001b[0m \u001b[38;5;28;01mfinally\u001b[39;00m:\n\u001b[0;32m    182\u001b[0m     \u001b[38;5;28;01mif\u001b[39;00m gcold:\n",
      "File \u001b[1;32m<timeit-src>:6\u001b[0m, in \u001b[0;36minner\u001b[1;34m(_it, _timer, _stmt)\u001b[0m\n",
      "Cell \u001b[1;32mIn[20], line 37\u001b[0m, in \u001b[0;36m<lambda>\u001b[1;34m()\u001b[0m\n\u001b[0;32m     35\u001b[0m \u001b[38;5;28mprint\u001b[39m(\u001b[38;5;124mf\u001b[39m\u001b[38;5;124m\"\u001b[39m\u001b[38;5;124mRekursive Fibonacci (\u001b[39m\u001b[38;5;132;01m{\u001b[39;00mn\u001b[38;5;132;01m}\u001b[39;00m\u001b[38;5;124m): \u001b[39m\u001b[38;5;132;01m{\u001b[39;00mtimeit\u001b[38;5;241m.\u001b[39mtimeit(\u001b[38;5;28;01mlambda\u001b[39;00m:\u001b[38;5;250m \u001b[39mfibonacci_rekursiv(n),\u001b[38;5;250m \u001b[39mnumber\u001b[38;5;241m=\u001b[39m\u001b[38;5;241m1\u001b[39m)\u001b[38;5;132;01m:\u001b[39;00m\u001b[38;5;124m.10f\u001b[39m\u001b[38;5;132;01m}\u001b[39;00m\u001b[38;5;124m Sekunden\u001b[39m\u001b[38;5;124m\"\u001b[39m)\n\u001b[0;32m     36\u001b[0m \u001b[38;5;28mprint\u001b[39m(\u001b[38;5;124mf\u001b[39m\u001b[38;5;124m\"\u001b[39m\u001b[38;5;124mIterative Fibonacci (\u001b[39m\u001b[38;5;132;01m{\u001b[39;00mn\u001b[38;5;132;01m}\u001b[39;00m\u001b[38;5;124m): \u001b[39m\u001b[38;5;132;01m{\u001b[39;00mtimeit\u001b[38;5;241m.\u001b[39mtimeit(\u001b[38;5;28;01mlambda\u001b[39;00m:\u001b[38;5;250m \u001b[39mfibonacci_iterativ(n),\u001b[38;5;250m \u001b[39mnumber\u001b[38;5;241m=\u001b[39m\u001b[38;5;241m1\u001b[39m)\u001b[38;5;132;01m:\u001b[39;00m\u001b[38;5;124m.10f\u001b[39m\u001b[38;5;132;01m}\u001b[39;00m\u001b[38;5;124m Sekunden\u001b[39m\u001b[38;5;124m\"\u001b[39m)\n\u001b[1;32m---> 37\u001b[0m \u001b[38;5;28mprint\u001b[39m(\u001b[38;5;124mf\u001b[39m\u001b[38;5;124m\"\u001b[39m\u001b[38;5;124mMemoized Fibonacci (\u001b[39m\u001b[38;5;132;01m{\u001b[39;00mn\u001b[38;5;132;01m}\u001b[39;00m\u001b[38;5;124m): \u001b[39m\u001b[38;5;132;01m{\u001b[39;00mtimeit\u001b[38;5;241m.\u001b[39mtimeit(\u001b[38;5;28;01mlambda\u001b[39;00m:\u001b[38;5;250m \u001b[39mfibonacci_rek_memo(n),\u001b[38;5;250m \u001b[39mnumber\u001b[38;5;241m=\u001b[39m\u001b[38;5;241m1\u001b[39m)\u001b[38;5;132;01m:\u001b[39;00m\u001b[38;5;124m.10f\u001b[39m\u001b[38;5;132;01m}\u001b[39;00m\u001b[38;5;124m Sekunden\u001b[39m\u001b[38;5;124m\"\u001b[39m)\n",
      "Cell \u001b[1;32mIn[20], line 30\u001b[0m, in \u001b[0;36mfibonacci_rek_memo\u001b[1;34m(n, speicher)\u001b[0m\n\u001b[0;32m     28\u001b[0m     speicher[n] \u001b[38;5;241m=\u001b[39m n\n\u001b[0;32m     29\u001b[0m \u001b[38;5;28;01melse\u001b[39;00m:\n\u001b[1;32m---> 30\u001b[0m     speicher[n] \u001b[38;5;241m=\u001b[39m fibonacci_rek_memo(n \u001b[38;5;241m-\u001b[39m \u001b[38;5;241m1\u001b[39m, speicher) \u001b[38;5;241m+\u001b[39m fibonacci_rek_memo(n \u001b[38;5;241m-\u001b[39m \u001b[38;5;241m2\u001b[39m, speicher)\n\u001b[0;32m     31\u001b[0m \u001b[38;5;28;01mreturn\u001b[39;00m speicher[n]\n",
      "Cell \u001b[1;32mIn[20], line 30\u001b[0m, in \u001b[0;36mfibonacci_rek_memo\u001b[1;34m(n, speicher)\u001b[0m\n\u001b[0;32m     28\u001b[0m     speicher[n] \u001b[38;5;241m=\u001b[39m n\n\u001b[0;32m     29\u001b[0m \u001b[38;5;28;01melse\u001b[39;00m:\n\u001b[1;32m---> 30\u001b[0m     speicher[n] \u001b[38;5;241m=\u001b[39m fibonacci_rek_memo(n \u001b[38;5;241m-\u001b[39m \u001b[38;5;241m1\u001b[39m, speicher) \u001b[38;5;241m+\u001b[39m fibonacci_rek_memo(n \u001b[38;5;241m-\u001b[39m \u001b[38;5;241m2\u001b[39m, speicher)\n\u001b[0;32m     31\u001b[0m \u001b[38;5;28;01mreturn\u001b[39;00m speicher[n]\n",
      "    \u001b[1;31m[... skipping similar frames: fibonacci_rek_memo at line 30 (26 times)]\u001b[0m\n",
      "Cell \u001b[1;32mIn[20], line 30\u001b[0m, in \u001b[0;36mfibonacci_rek_memo\u001b[1;34m(n, speicher)\u001b[0m\n\u001b[0;32m     28\u001b[0m     speicher[n] \u001b[38;5;241m=\u001b[39m n\n\u001b[0;32m     29\u001b[0m \u001b[38;5;28;01melse\u001b[39;00m:\n\u001b[1;32m---> 30\u001b[0m     speicher[n] \u001b[38;5;241m=\u001b[39m fibonacci_rek_memo(n \u001b[38;5;241m-\u001b[39m \u001b[38;5;241m1\u001b[39m, speicher) \u001b[38;5;241m+\u001b[39m fibonacci_rek_memo(n \u001b[38;5;241m-\u001b[39m \u001b[38;5;241m2\u001b[39m, speicher)\n\u001b[0;32m     31\u001b[0m \u001b[38;5;28;01mreturn\u001b[39;00m speicher[n]\n",
      "Cell \u001b[1;32mIn[20], line 28\u001b[0m, in \u001b[0;36mfibonacci_rek_memo\u001b[1;34m(n, speicher)\u001b[0m\n\u001b[0;32m     26\u001b[0m     \u001b[38;5;28;01mreturn\u001b[39;00m speicher[n]\n\u001b[0;32m     27\u001b[0m \u001b[38;5;28;01mif\u001b[39;00m n \u001b[38;5;241m<\u001b[39m\u001b[38;5;241m=\u001b[39m \u001b[38;5;241m1\u001b[39m:\n\u001b[1;32m---> 28\u001b[0m     speicher[n] \u001b[38;5;241m=\u001b[39m n\n\u001b[0;32m     29\u001b[0m \u001b[38;5;28;01melse\u001b[39;00m:\n\u001b[0;32m     30\u001b[0m     speicher[n] \u001b[38;5;241m=\u001b[39m fibonacci_rek_memo(n \u001b[38;5;241m-\u001b[39m \u001b[38;5;241m1\u001b[39m, speicher) \u001b[38;5;241m+\u001b[39m fibonacci_rek_memo(n \u001b[38;5;241m-\u001b[39m \u001b[38;5;241m2\u001b[39m, speicher)\n",
      "\u001b[1;31mTypeError\u001b[0m: 'set' object does not support item assignment"
     ]
    }
   ],
   "source": [
    "# Fibonacci-Folge: Rekursive vs. Iterative Implementierung\n",
    "\n",
    "import timeit\n",
    "\n",
    "def fibonacci_rekursiv(n):\n",
    "    \"\"\"TODO: Implementieren Sie die rekursive Berechnung der Fibonacci-Zahl\"\"\"\n",
    "    if n <= 1:\n",
    "            return n\n",
    "    return fibonacci_rekursiv(n - 1) + fibonacci_rekursiv(n - 2)\n",
    "\n",
    "\n",
    "def fibonacci_iterativ(n):\n",
    "    \"\"\"TODO: Implementieren Sie die iterative Berechnung der Fibonacci-Zahl\"\"\"\n",
    "    if n <= 1 :\n",
    "        return n\n",
    "    a, b = 0, 1\n",
    "    for i in range(2, n + 1):\n",
    "        a, b = b, a + b\n",
    "    return b\n",
    "\n",
    "def fibonacci_rek_memo(n, speicher={None}):\n",
    "    \"\"\"TODO: Implementieren Sie die optimierte rekursive Berechnung mit Memoization\"\"\"\n",
    "    if speicher is None:\n",
    "        speicher = {}\n",
    "    if n in speicher:\n",
    "        return speicher[n]\n",
    "    if n <= 1:\n",
    "        speicher[n] = n\n",
    "    else:\n",
    "        speicher[n] = fibonacci_rek_memo(n - 1, speicher) + fibonacci_rek_memo(n - 2, speicher)\n",
    "    return speicher[n]\n",
    "\n",
    "# Laufzeitmessung\n",
    "n = 30\n",
    "print(f\"Rekursive Fibonacci ({n}): {timeit.timeit(lambda: fibonacci_rekursiv(n), number=1):.10f} Sekunden\")\n",
    "print(f\"Iterative Fibonacci ({n}): {timeit.timeit(lambda: fibonacci_iterativ(n), number=1):.10f} Sekunden\")\n",
    "print(f\"Memoized Fibonacci ({n}): {timeit.timeit(lambda: fibonacci_rek_memo(n), number=1):.10f} Sekunden\")\n"
   ]
  },
  {
   "cell_type": "code",
   "execution_count": null,
   "metadata": {},
   "outputs": [],
   "source": []
  },
  {
   "cell_type": "code",
   "execution_count": null,
   "metadata": {},
   "outputs": [],
   "source": []
  }
 ],
 "metadata": {
  "colab": {
   "authorship_tag": "ABX9TyOpiM738+6zrROp0wzGNTyF",
   "provenance": []
  },
  "kernelspec": {
   "display_name": "Python [conda env:base] *",
   "language": "python",
   "name": "conda-base-py"
  },
  "language_info": {
   "codemirror_mode": {
    "name": "ipython",
    "version": 3
   },
   "file_extension": ".py",
   "mimetype": "text/x-python",
   "name": "python",
   "nbconvert_exporter": "python",
   "pygments_lexer": "ipython3",
   "version": "3.12.7"
  }
 },
 "nbformat": 4,
 "nbformat_minor": 4
}
