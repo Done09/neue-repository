{
 "cells": [
  {
   "cell_type": "markdown",
   "metadata": {
    "id": "dZqcdKBBEmIq"
   },
   "source": [
    "# INF2 Lab09 – Multithreading: Bild-Downloads beschleunigen\n",
    "In dieser Übung laden Sie verschiedene Bilder herunter – zunächst sequentiell, dann parallel."
   ]
  },
  {
   "cell_type": "code",
   "execution_count": 2,
   "metadata": {
    "id": "zyID9AHAEXNO"
   },
   "outputs": [],
   "source": [
    "urls = [\n",
    "    \"https://upload.wikimedia.org/wikipedia/commons/3/3f/Fronalpstock_big.jpg\",\n",
    "    \"https://upload.wikimedia.org/wikipedia/commons/b/b6/Image_created_with_a_mobile_phone.png\",\n",
    "    \"https://upload.wikimedia.org/wikipedia/commons/6/6e/Golde33443.jpg\",\n",
    "    \"https://upload.wikimedia.org/wikipedia/commons/a/af/Tux.png\",\n",
    "    \"https://upload.wikimedia.org/wikipedia/commons/0/0f/Grosser_Panda.JPG\"\n",
    "]*2\n",
    "\n",
    "headers = {\n",
    "    \"User-Agent\": \"Mozilla/5.0 (Windows NT 10.0; Win64; x64) \"\n",
    "                  \"AppleWebKit/537.36 (KHTML, like Gecko) \"\n",
    "                  \"Chrome/114.0.0.0 Safari/537.36\"\n",
    "}"
   ]
  },
  {
   "cell_type": "code",
   "execution_count": 3,
   "metadata": {
    "id": "hzXBssmJGnfq"
   },
   "outputs": [],
   "source": [
    "import time\n",
    "import requests\n",
    "import os\n",
    "\n",
    "def download_and_save(i, url):\n",
    "    r = requests.get(url, headers=headers)\n",
    "    filename = f\"images_threaded/image_{i:02d}.jpg\"\n",
    "    if r.status_code == 200:\n",
    "        with open(filename, \"wb\") as f:\n",
    "            f.write(r.content)\n",
    "        size = os.path.getsize(filename)\n",
    "        print(f\"Gespeichert: {filename} ({size} Bytes)\")\n",
    "    else:\n",
    "        print(f\"Fehler {r.status_code}: {url}\")"
   ]
  },
  {
   "cell_type": "markdown",
   "metadata": {
    "id": "SM2ux-bvAwyi"
   },
   "source": [
    "## Sequentieller Download und Speicherung"
   ]
  },
  {
   "cell_type": "code",
   "execution_count": 12,
   "metadata": {
    "colab": {
     "base_uri": "https://localhost:8080/"
    },
    "executionInfo": {
     "elapsed": 2256,
     "status": "ok",
     "timestamp": 1748338550392,
     "user": {
      "displayName": "Tobias Schaffer",
      "userId": "09009542802022320095"
     },
     "user_tz": -120
    },
    "id": "A2V4omNUAurA",
    "outputId": "50206cb9-c4c5-490f-d4aa-d5d12bc47bb2"
   },
   "outputs": [
    {
     "name": "stdout",
     "output_type": "stream",
     "text": [
      "Gespeichert: images_threaded/image_00.jpg (14679474 Bytes)\n",
      "Gespeichert: images_threaded/image_01.jpg (11063620 Bytes)\n",
      "Gespeichert: images_threaded/image_02.jpg (212652 Bytes)\n",
      "Gespeichert: images_threaded/image_03.jpg (11913 Bytes)\n",
      "Gespeichert: images_threaded/image_04.jpg (5012179 Bytes)\n",
      "Gespeichert: images_threaded/image_05.jpg (14679474 Bytes)\n",
      "Gespeichert: images_threaded/image_06.jpg (11063620 Bytes)\n",
      "Gespeichert: images_threaded/image_07.jpg (212652 Bytes)\n",
      "Gespeichert: images_threaded/image_08.jpg (11913 Bytes)\n",
      "Gespeichert: images_threaded/image_09.jpg (5012179 Bytes)\n",
      "Sequentielle Zeit: 14.25 Sekunden\n"
     ]
    }
   ],
   "source": [
    "os.makedirs(\"images_sequential\", exist_ok=True)\n",
    "\n",
    "start = time.time()\n",
    "for i, url in enumerate(urls):\n",
    "    download_and_save(i, url)\n",
    "end = time.time()\n",
    "\n",
    "print(f\"Sequentielle Zeit: {end - start:.2f} Sekunden\")"
   ]
  },
  {
   "cell_type": "markdown",
   "metadata": {
    "id": "4LSa5EvIA6a3"
   },
   "source": [
    "## Paralleler Download mit Threads"
   ]
  },
  {
   "cell_type": "code",
   "execution_count": null,
   "metadata": {
    "colab": {
     "base_uri": "https://localhost:8080/"
    },
    "executionInfo": {
     "elapsed": 1803,
     "status": "ok",
     "timestamp": 1748338434982,
     "user": {
      "displayName": "Tobias Schaffer",
      "userId": "09009542802022320095"
     },
     "user_tz": -120
    },
    "id": "7pEJOaRDA0Yx",
    "outputId": "35eeb899-4ce9-42bc-eb16-860f1c65c184"
   },
   "outputs": [
    {
     "name": "stdout",
     "output_type": "stream",
     "text": [
      "Gespeichert: images_threaded/image_00.jpg (14679474 Bytes)\n",
      "Gespeichert: images_threaded/image_01.jpg (11063620 Bytes)\n",
      "Gespeichert: images_threaded/image_02.jpg (212652 Bytes)\n",
      "Gespeichert: images_threaded/image_03.jpg (11913 Bytes)\n",
      "Gespeichert: images_threaded/image_04.jpg (5012179 Bytes)\n",
      "Gespeichert: images_threaded/image_05.jpg (14679474 Bytes)\n",
      "Gespeichert: images_threaded/image_06.jpg (11063620 Bytes)\n",
      "Gespeichert: images_threaded/image_07.jpg (212652 Bytes)\n",
      "Gespeichert: images_threaded/image_08.jpg (11913 Bytes)\n",
      "Gespeichert: images_threaded/image_09.jpg (5012179 Bytes)\n",
      "Multithreading-Zeit: 14.48 Sekunden\n"
     ]
    }
   ],
   "source": [
    "import threading\n",
    "\n",
    "os.makedirs(\"images_threaded\", exist_ok=True)\n",
    "\n",
    "start = time.time()\n",
    "\n",
    "# TODO: Implementieren Sie eine Download mit Threads\n",
    "\n",
    "for i, url in enumerate(urls):\n",
    "    thread = threading.Thread(target=download_and_save, args=(i, url))\n",
    "    thread.start()\n",
    "    thread.join()\n",
    "\n",
    "    \n",
    "    end = time.time()\n",
    "\n",
    "print(f\"Multithreading-Zeit: {end - start:.2f} Sekunden\")"
   ]
  },
  {
   "cell_type": "code",
   "execution_count": null,
   "metadata": {
    "id": "2w_C4sQfBJ-b"
   },
   "outputs": [],
   "source": []
  }
 ],
 "metadata": {
  "colab": {
   "authorship_tag": "ABX9TyNUme/UPj/UadVH6XYht+gK",
   "provenance": []
  },
  "kernelspec": {
   "display_name": "base",
   "language": "python",
   "name": "python3"
  },
  "language_info": {
   "codemirror_mode": {
    "name": "ipython",
    "version": 3
   },
   "file_extension": ".py",
   "mimetype": "text/x-python",
   "name": "python",
   "nbconvert_exporter": "python",
   "pygments_lexer": "ipython3",
   "version": "3.12.7"
  }
 },
 "nbformat": 4,
 "nbformat_minor": 0
}
