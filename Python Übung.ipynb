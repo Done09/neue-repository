{
 "cells": [
  {
   "cell_type": "code",
   "execution_count": 1,
   "id": "e00ae8c7",
   "metadata": {},
   "outputs": [
    {
     "name": "stdout",
     "output_type": "stream",
     "text": [
      "Unbekannte Währung. Bitte geben Sie entweder $ oder € ein.\n"
     ]
    }
   ],
   "source": [
    "# Währungsumrechner\n",
    "\n",
    "währung = input(\"Geben Sie die Währung ein (z.B. $, €): \")\n",
    "betrag = float(input(\"Geben Sie den Betrag ein: \"))\n",
    "\n",
    "if währung == \"$\":\n",
    "    betrag_in_euro = betrag * 0.85  # Beispielkurs\n",
    "    print ( betrag_in_euro, \"€\")\n",
    "elif währung == \"€\":\n",
    "    betrag_in_dollar = betrag * 1.18\n",
    "    print ( betrag_in_dollar, \"$\")\n",
    "else: \n",
    "    print(\"Unbekannte Währung. Bitte geben Sie entweder $ oder € ein.\")"
   ]
  },
  {
   "cell_type": "code",
   "execution_count": 46,
   "id": "674b21d7",
   "metadata": {},
   "outputs": [
    {
     "name": "stdout",
     "output_type": "stream",
     "text": [
      "Der Preis beträgt 5 Euro.\n"
     ]
    }
   ],
   "source": [
    "#Kinoticketautomat\n",
    "\n",
    "alter = int(input(\"Geben Sie Ihr Alter ein: \"))\n",
    "if alter < 18:\n",
    "    print(\"Der Preis beträgt 5 Euro.\")\n",
    "elif alter >= 18 and alter <= 65:\n",
    "    print(\"Der Preis beträgt 10 Euro.\")\n",
    "elif alter > 65:\n",
    "    print(\"Der Preis beträgt 7,50 Euro.\")"
   ]
  },
  {
   "cell_type": "code",
   "execution_count": 9,
   "id": "e4098390",
   "metadata": {},
   "outputs": [
    {
     "name": "stdout",
     "output_type": "stream",
     "text": [
      "Einkaufszettel:  ['Hackfleisch', 'Salz', 'Tomatenmark', 'Zwiebeln', 'Paprika']\n",
      "Einkaufszettel nach Entfernen von Paprika:  ['Hackfleisch', 'Salz', 'Zwiebeln', 'Paprika']\n"
     ]
    }
   ],
   "source": [
    "# leere Liste\n",
    "leere_liste = []\n",
    "\n",
    "einkaufszettel = [\"Hackfleisch\", \"Tomatenmark\",\"Zwiebeln\"]\n",
    "einkaufszettel.append(\"Paprika\")\n",
    "einkaufszettel.insert(1, \"Salz\")\n",
    "print(\"Einkaufszettel: \", einkaufszettel)\n",
    "einkaufszettel.remove(einkaufszettel[2])\n",
    "print(\"Einkaufszettel nach Entfernen von Paprika: \", einkaufszettel)"
   ]
  },
  {
   "cell_type": "code",
   "execution_count": 26,
   "id": "f22fd1f2",
   "metadata": {},
   "outputs": [
    {
     "name": "stdout",
     "output_type": "stream",
     "text": [
      "Das Tupel ist:  (1, 2, 3, 4, 5)\n"
     ]
    }
   ],
   "source": [
    "tupel = (1, 2, 3, 4, 5)\n",
    "print(\"Das Tupel ist: \", tupel)\n"
   ]
  },
  {
   "cell_type": "code",
   "execution_count": null,
   "id": "fc5f9300",
   "metadata": {},
   "outputs": [
    {
     "name": "stdout",
     "output_type": "stream",
     "text": [
      "Artikel nicht gefunden.\n",
      "Artikel nicht gefunden.\n",
      "Einkaufsliste:  []\n"
     ]
    }
   ],
   "source": [
    "# Einkaufsliste\n",
    "einkaufsliste = []\n",
    "frage = (input(\"was möchten sie tun (hinzufügen , anzeigen , entfernen , beenden) :\"))\n",
    "if frage == \"hinzufügen\":\n",
    "    while True:\n",
    "        artikel = input(\"Geben Sie den Artikel ein (oder 'stop' zum Beenden): \")\n",
    "        einkaufsliste.append(artikel)\n",
    "        if artikel == \"stop\":\n",
    "            break\n",
    "if  frage == \"anzeigen\":\n",
    "    print(\"Einkaufsliste: \", einkaufsliste)\n",
    "if  frage == \"entfernen\":\n",
    "    while True:\n",
    "        entfernen = input(\"Welchen Artikel möchten Sie entfernen? \")\n",
    "        if entfernen in einkaufsliste:\n",
    "            einkaufsliste.remove(entfernen)\n",
    "            print (\"Artikel entfernt.\")\n",
    "        elif entfernen not in einkaufsliste:\n",
    "                print (\"Artikel nicht gefunden.\") \n",
    "        if entfernen == \"stop\":\n",
    "            break\n",
    "if frage == \"beenden\":\n",
    "    print (\"Einkaufsliste wird beendet.\")\n",
    "\n",
    "print (\"Einkaufsliste: \", einkaufsliste)"
   ]
  },
  {
   "cell_type": "code",
   "execution_count": 12,
   "id": "1a0ae0f0",
   "metadata": {},
   "outputs": [
    {
     "name": "stdout",
     "output_type": "stream",
     "text": [
      "Die Zahl ist kleiner.\n",
      "Die Zahl ist größer.\n",
      "Die Zahl ist kleiner.\n",
      "Die Zahl ist kleiner.\n",
      "Herzlichen Glückwunsch! Sie haben die Zahl erraten.\n"
     ]
    }
   ],
   "source": [
    "# Ratespiel #\n",
    "\n",
    "from random import randint\n",
    "zahl = randint(1, 100)\n",
    "\n",
    "while True:\n",
    "    versuch = int(input(\"Geben Sie eine Zahl zwischen 1 und 100 ein: \"))\n",
    "    if versuch < zahl:\n",
    "        print(\"Die Zahl ist größer.\")\n",
    "    elif versuch > zahl:\n",
    "        print(\"Die Zahl ist kleiner.\")\n",
    "    else:\n",
    "        print(\"Herzlichen Glückwunsch! Sie haben die Zahl erraten.\")\n",
    "        break\n"
   ]
  },
  {
   "cell_type": "code",
   "execution_count": null,
   "id": "c7363df4",
   "metadata": {},
   "outputs": [
    {
     "name": "stdout",
     "output_type": "stream",
     "text": [
      "die mit bubble sort sortierte Liste ist:  [-3, 1, 3, 4, 10]\n"
     ]
    }
   ],
   "source": [
    "#bubble sort\n",
    "liste = [3, 10, 1, -3, 4]\n",
    "for i in range ( len(liste)-1):\n",
    "    for j in range (len(liste)-1-i):\n",
    "        if liste[j] > liste[j+1]:\n",
    "            liste[j], liste[j+1] = liste[j+1], liste[j]\n",
    "\n",
    "print (\"die mit bubble sort sortierte Liste ist: \", liste)"
   ]
  },
  {
   "cell_type": "code",
   "execution_count": null,
   "id": "593a592a",
   "metadata": {},
   "outputs": [
    {
     "name": "stdout",
     "output_type": "stream",
     "text": [
      "2.5\n"
     ]
    }
   ],
   "source": [
    "\n"
   ]
  }
 ],
 "metadata": {
  "kernelspec": {
   "display_name": "base",
   "language": "python",
   "name": "python3"
  },
  "language_info": {
   "codemirror_mode": {
    "name": "ipython",
    "version": 3
   },
   "file_extension": ".py",
   "mimetype": "text/x-python",
   "name": "python",
   "nbconvert_exporter": "python",
   "pygments_lexer": "ipython3",
   "version": "3.12.7"
  }
 },
 "nbformat": 4,
 "nbformat_minor": 5
}
