{
 "cells": [
  {
   "cell_type": "code",
   "execution_count": null,
   "metadata": {
    "id": "DtuL_Wz7AaZf"
   },
   "outputs": [
    {
     "ename": "IndentationError",
     "evalue": "expected an indented block after function definition on line 79 (183879062.py, line 81)",
     "output_type": "error",
     "traceback": [
      "\u001b[1;36m  Cell \u001b[1;32mIn[1], line 81\u001b[1;36m\u001b[0m\n\u001b[1;33m    return fzg1.gewicht + fzg2.gewicht\u001b[0m\n\u001b[1;37m    ^\u001b[0m\n\u001b[1;31mIndentationError\u001b[0m\u001b[1;31m:\u001b[0m expected an indented block after function definition on line 79\n"
     ]
    }
   ],
   "source": [
    "# Vektor-Klasse mit Magic Methods\n",
    "\n",
    "class Vektor:\n",
    "    def __init__(self, x, y):\n",
    "        \"\"\"Initialisiert einen Vektor mit x- und y-Koordinate.\"\"\"\n",
    "        self.x = x\n",
    "        self.y = y\n",
    "\n",
    "    # TODO: Implementieren Sie die Methode zur Ausgabe des Vektors\n",
    "    def __str__(self):\n",
    "    #   \"\"\"Gibt eine lesbare Darstellung des Vektors zurück.\"\"\"\n",
    "        return f\"({self.x}, {self.y})\"\n",
    "    def __add__(self, anderer):\n",
    "        \"\"\"ErmÖglicht die Addition zweier Vektoren.\"\"\"\n",
    "        return Vektor(self.x + anderer.x, self.y + anderer.y)\n",
    "\n",
    "    # TODO: Implementieren Sie die Methode zur Subtraktion zweier Vektoren\n",
    "    def __sub__(self, anderer):\n",
    "    #   \"\"\"Ermöglicht die Subtraktion zweier Vektoren.\"\"\"\n",
    "        return Vektor(self.x - anderer.x, self.y - anderer.y)\n",
    "\n",
    "    # TODO: Implementieren Sie die Methode zur skalaren Multiplikation\n",
    "    def __mul__(self, skalar):\n",
    "    #   \"\"\"Ermöglicht die skalare Multiplikation.\"\"\"\n",
    "        return Vektor(self.x * skalar, self.y * skalar)\n",
    "\n",
    "    # TODO: Implementieren Sie die Vergleichsmethode für zwei Vektoren\n",
    "    def __eq__(self, anderer):\n",
    "    #   \"\"\"Vergleicht zwei Vektoren auf Gleichheit.\"\"\"\n",
    "        return self.x == anderer.x and self.y == anderer.y\n",
    "\n",
    "    # TODO: Implementieren Sie die Methode zur elementweisen Potenzierung\n",
    "    def __pow__(self, exponent):\n",
    "    #   \"\"\"Ermöglicht die elementweise Potenzierung des Vektors.\"\"\"\n",
    "        return Vektor(self.x ** exponent, self.y ** exponent)\n",
    "\n",
    "    # TODO: Implementieren Sie die Methode für das Skalarprod. zweier Vektoren\n",
    "    def __matmul__(self, anderer):\n",
    "    #   \"\"\"Ermöglicht das Skalarprodukt zweier Vektoren.\"\"\"\n",
    "        return self.x * anderer.x + self.y * anderer.y\n",
    "\n",
    "\n",
    "# Testfälle für die Vektor-Klasse\n",
    "def main():\n",
    "    v1 = Vektor(3, 4)\n",
    "    v2 = Vektor(1, 2)\n",
    "\n",
    "    # TODO: Aktivieren Sie die folgenden Zeilen nach Implementierung der Methoden\n",
    "    print(\"Vektor 1:\", v1)\n",
    "    print(\"Vektor 2:\", v2)\n",
    "\n",
    "    print(\"Addition:\", v1 + v2)\n",
    "\n",
    "    # TODO: Aktivieren Sie die folgenden Zeilen nach Implementierung der Methoden\n",
    "    print(\"Subtraktion:\", v1 - v2)\n",
    "    print(\"Multiplikation mit Skalar 2:\", v1 * 2)\n",
    "    print(\"Vergleich (sollte False sein):\", v1 == v2)\n",
    "    print(\"Vergleich (sollte True sein):\", v1 == Vektor(3, 4))\n",
    "    print(\"Elementweise Potenzierung mit Exponent 2:\", v1 ** 2)\n",
    "    print(\"Skalarprodukt (Matmul-Operator):\", v1 @ v2)\n",
    "\n",
    "\n",
    "    \n",
    "\n",
    "if __name__ == \"__main__\":\n",
    "    main()\n",
    "\n",
    "\n",
    "\n",
    "class Fahrzeug:\n",
    "    def __init__(self, gewicht):\n",
    "    \n",
    "        self.gewicht = gewicht #Übergibt das Gewicht flexibel\n",
    "        \n",
    "    def __str__(self):\n",
    "        \n",
    "        return f\"{self.gewicht} kg\"\n",
    "\n",
    "def gewicht_addieren(fzg1,fzg2):\n",
    "\n",
    "return fzg1.gewicht + fzg2.gewicht\n",
    "\n",
    "#Testfälle\n",
    "f1 = Fahrzeug(20)\n",
    "f2 = Fahrzeug(30)\n",
    "\n",
    "print(\"Fahrzeug1:\",f1)\n",
    "print(\"Fahrzeug2:\",f2)\n",
    "print(\"Gesamtgewicht:\",gewicht_addieren(fi,f2),\"kg\")\n",
    "\n",
    "\n",
    "\n"
   ]
  },
  {
   "cell_type": "code",
   "execution_count": null,
   "metadata": {
    "id": "oUotRWZfAg_c"
   },
   "outputs": [],
   "source": []
  }
 ],
 "metadata": {
  "colab": {
   "authorship_tag": "ABX9TyPdokcF8HLVAfO8UW9BErGr",
   "provenance": []
  },
  "kernelspec": {
   "display_name": "base",
   "language": "python",
   "name": "python3"
  },
  "language_info": {
   "codemirror_mode": {
    "name": "ipython",
    "version": 3
   },
   "file_extension": ".py",
   "mimetype": "text/x-python",
   "name": "python",
   "nbconvert_exporter": "python",
   "pygments_lexer": "ipython3",
   "version": "3.12.7"
  }
 },
 "nbformat": 4,
 "nbformat_minor": 4
}
