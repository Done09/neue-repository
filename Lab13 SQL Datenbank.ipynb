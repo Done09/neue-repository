{
 "cells": [
  {
   "cell_type": "code",
   "execution_count": 2,
   "metadata": {
    "executionInfo": {
     "elapsed": 24,
     "status": "ok",
     "timestamp": 1751375775069,
     "user": {
      "displayName": "Tobias Schaffer",
      "userId": "09009542802022320095"
     },
     "user_tz": -120
    },
    "id": "BPtMeJtr-CyM"
   },
   "outputs": [],
   "source": [
    "# Verbindung zur SQLite-Datenbank\n",
    "import sqlite3\n",
    "import os\n",
    "\n",
    "if os.path.exists(\"lab13.db\"):\n",
    "    os.remove(\"lab13.db\")\n",
    "\n",
    "conn = sqlite3.connect(\"lab13.db\")\n",
    "cursor = conn.cursor()"
   ]
  },
  {
   "cell_type": "code",
   "execution_count": 3,
   "metadata": {
    "colab": {
     "base_uri": "https://localhost:8080/"
    },
    "executionInfo": {
     "elapsed": 43,
     "status": "ok",
     "timestamp": 1751357972230,
     "user": {
      "displayName": "Tobias Schaffer",
      "userId": "09009542802022320095"
     },
     "user_tz": -120
    },
    "id": "XZDBtndG-fmL",
    "outputId": "100ac92e-5f30-4abe-aeeb-648bcf719465"
   },
   "outputs": [
    {
     "data": {
      "text/plain": [
       "<sqlite3.Cursor at 0x21ac45263c0>"
      ]
     },
     "execution_count": 3,
     "metadata": {},
     "output_type": "execute_result"
    }
   ],
   "source": [
    "# Studenten-Tabelle (Matrikelnummer als PRIMARY KEY)\n",
    "cursor.execute('''\n",
    "CREATE TABLE studenten (\n",
    "    matrikelnummer TEXT PRIMARY KEY,\n",
    "    name TEXT NOT NULL\n",
    ")\n",
    "''')\n",
    "\n",
    "# Dozenten-Tabelle\n",
    "cursor.execute('''\n",
    "CREATE TABLE dozenten (\n",
    "    id INTEGER PRIMARY KEY AUTOINCREMENT,\n",
    "    name TEXT NOT NULL\n",
    ")\n",
    "''')\n",
    "\n",
    "# Fächer-Tabelle\n",
    "cursor.execute('''\n",
    "CREATE TABLE faecher (\n",
    "    kuerzel TEXT PRIMARY KEY,\n",
    "    bezeichnung TEXT NOT NULL,\n",
    "    wochenstunden INTEGER,\n",
    "    dozent_id INTEGER,\n",
    "    FOREIGN KEY (dozent_id) REFERENCES dozenten(id)\n",
    ")\n",
    "''')\n",
    "\n",
    "# Prüfungen-Tabelle mit Note, Gewichtung und Bezeichnung\n",
    "cursor.execute('''\n",
    "CREATE TABLE pruefungen (\n",
    "    id INTEGER PRIMARY KEY AUTOINCREMENT,\n",
    "    student_id TEXT,\n",
    "    fach_kuerzel TEXT,\n",
    "    note REAL,\n",
    "    gewichtung INTEGER CHECK(gewichtung IN (1, 2)),\n",
    "    bezeichnung TEXT,\n",
    "    FOREIGN KEY (student_id) REFERENCES studenten(matrikelnummer),\n",
    "    FOREIGN KEY (fach_kuerzel) REFERENCES faecher(kuerzel)\n",
    ")\n",
    "''')\n"
   ]
  },
  {
   "cell_type": "code",
   "execution_count": 4,
   "metadata": {
    "colab": {
     "base_uri": "https://localhost:8080/"
    },
    "executionInfo": {
     "elapsed": 166,
     "status": "ok",
     "timestamp": 1751357973783,
     "user": {
      "displayName": "Tobias Schaffer",
      "userId": "09009542802022320095"
     },
     "user_tz": -120
    },
    "id": "_x2vrlvq--QZ",
    "outputId": "341edf84-d786-4df4-f9a6-a1f1c45a6479"
   },
   "outputs": [
    {
     "data": {
      "text/plain": [
       "<sqlite3.Cursor at 0x21ac45263c0>"
      ]
     },
     "execution_count": 4,
     "metadata": {},
     "output_type": "execute_result"
    }
   ],
   "source": [
    "# Studenten anlegen\n",
    "studenten = [\n",
    "    ('20230001', 'Alice'),\n",
    "    ('20230002', 'Bob'),\n",
    "    ('20230003', 'Charlie'),\n",
    "    ('20230004', 'Diana'),\n",
    "    ('20230005', 'Eve')\n",
    "\n",
    "]\n",
    "cursor.executemany(\"INSERT INTO studenten (matrikelnummer, name) VALUES (?, ?)\", studenten)\n",
    "\n",
    "# Dozenten einfügen\n",
    "dozenten = ['Dr. Maier', 'Prof. Schmitt', 'Dr. Klein', 'Prof. Wagner']\n",
    "for name in dozenten:\n",
    "    cursor.execute(\"INSERT INTO dozenten (name) VALUES (?)\", (name,))\n",
    "\n",
    "# Dozenten-IDs holen\n",
    "cursor.execute(\"SELECT id FROM dozenten WHERE name = 'Dr. Maier'\")\n",
    "maier_id = cursor.fetchone()[0]\n",
    "cursor.execute(\"SELECT id FROM dozenten WHERE name = 'Prof. Schmitt'\")\n",
    "schmitt_id = cursor.fetchone()[0]\n",
    "cursor.execute(\"SELECT id FROM dozenten WHERE name = 'Dr. Klein'\")\n",
    "klein_id = cursor.fetchone()[0]\n",
    "cursor.execute(\"SELECT id FROM dozenten WHERE name = 'Prof. Wagner'\")\n",
    "wagner_id = cursor.fetchone()[0]\n",
    "\n",
    "# Fächer einfügen\n",
    "faecher = [\n",
    "    ('MATH', 'Mathematik', 4, maier_id),\n",
    "    ('INFO', 'Informatik', 3, schmitt_id),\n",
    "    ('PHYS', 'Physik', 4, klein_id),\n",
    "    ('ELEK', 'Elektronik', 3, wagner_id),\n",
    "    ('STAT', 'Statistik', 2, maier_id),\n",
    "]\n",
    "cursor.executemany(\"INSERT INTO faecher VALUES (?, ?, ?, ?)\", faecher)\n"
   ]
  },
  {
   "cell_type": "code",
   "execution_count": 5,
   "metadata": {
    "id": "RBRnwOqD-p6P"
   },
   "outputs": [
    {
     "data": {
      "text/plain": [
       "<sqlite3.Cursor at 0x21ac45263c0>"
      ]
     },
     "execution_count": 5,
     "metadata": {},
     "output_type": "execute_result"
    }
   ],
   "source": [
    "# Tabelle zurücksetzen (falls Zelle mehrfach ausgeführt wird)\n",
    "cursor.execute(\"DELETE FROM pruefungen\")\n",
    "\n",
    "# Daten anlegen\n",
    "pruefungen = [\n",
    "    ('20230001', 'MATH', 1.7, 2, 'Klausur'),\n",
    "    ('20230001', 'INFO', 1.3, 2, 'Projektarbeit'),\n",
    "    ('20230001', 'PHYS', 2.0, 1, 'Mündliche Prüfung'),\n",
    "    ('20230001', 'PHYS', 3.0, 1, 'Kurztest'),\n",
    "\n",
    "    ('20230002', 'MATH', 2.3, 2, 'Klausur'),\n",
    "    ('20230002', 'INFO', 1.0, 2, 'Projektarbeit'),\n",
    "    ('20230002', 'PHYS', 2.7, 1, 'Mündliche Prüfung'),\n",
    "    ('20230002', 'ELEK', 1.5, 1, 'Laborarbeit')\n",
    "]\n",
    "cursor.executemany(\n",
    "    \"INSERT INTO pruefungen (student_id, fach_kuerzel, note, gewichtung, bezeichnung) VALUES (?, ?, ?, ?, ?)\",\n",
    "    pruefungen\n",
    ")"
   ]
  },
  {
   "cell_type": "markdown",
   "metadata": {
    "id": "-L-Hi1aP_dNQ"
   },
   "source": [
    "## SQL-Abfragen"
   ]
  },
  {
   "cell_type": "markdown",
   "metadata": {
    "id": "wuiSjqt9E9Uy"
   },
   "source": [
    "### Alle Prüfungen mit Matrikelnummer, Fach, Art, Note, Gewichtung"
   ]
  },
  {
   "cell_type": "code",
   "execution_count": 6,
   "metadata": {
    "id": "eghupkCCEs-C"
   },
   "outputs": [
    {
     "name": "stdout",
     "output_type": "stream",
     "text": [
      "('20230001', 'MATH', 'Klausur', 1.7, 2)\n",
      "('20230001', 'INFO', 'Projektarbeit', 1.3, 2)\n",
      "('20230001', 'PHYS', 'Mündliche Prüfung', 2.0, 1)\n",
      "('20230001', 'PHYS', 'Kurztest', 3.0, 1)\n",
      "('20230002', 'MATH', 'Klausur', 2.3, 2)\n",
      "('20230002', 'INFO', 'Projektarbeit', 1.0, 2)\n",
      "('20230002', 'PHYS', 'Mündliche Prüfung', 2.7, 1)\n",
      "('20230002', 'ELEK', 'Laborarbeit', 1.5, 1)\n"
     ]
    }
   ],
   "source": [
    "cursor.execute('''\n",
    "SELECT p.student_id, p.fach_kuerzel, p.bezeichnung, p.note, p.gewichtung\n",
    "FROM pruefungen p\n",
    "''')\n",
    "for row in cursor.fetchall():\n",
    "    print(row)"
   ]
  },
  {
   "cell_type": "markdown",
   "metadata": {
    "id": "nuXGeFU2_eZf"
   },
   "source": [
    "### Alle Prüfungen mit Studierendenname, Fach, Art, Note, Gewichtung\n",
    "(JOIN verwenden)"
   ]
  },
  {
   "cell_type": "code",
   "execution_count": 7,
   "metadata": {
    "id": "SfSaK6A--3pr"
   },
   "outputs": [
    {
     "name": "stdout",
     "output_type": "stream",
     "text": [
      "('20230001', 'Alice', 'Mathematik', 1.7, 2)\n",
      "('20230001', 'Alice', 'Informatik', 1.3, 2)\n",
      "('20230001', 'Alice', 'Physik', 2.0, 1)\n",
      "('20230001', 'Alice', 'Physik', 3.0, 1)\n",
      "('20230002', 'Bob', 'Mathematik', 2.3, 2)\n",
      "('20230002', 'Bob', 'Informatik', 1.0, 2)\n",
      "('20230002', 'Bob', 'Physik', 2.7, 1)\n",
      "('20230002', 'Bob', 'Elektronik', 1.5, 1)\n"
     ]
    }
   ],
   "source": [
    "cursor.execute('''\n",
    "SELECT s.matrikelnummer, s.name, f.bezeichnung, p.note, p.gewichtung\n",
    "FROM studenten s\n",
    "JOIN pruefungen p ON s.matrikelnummer = p.student_id\n",
    "JOIN faecher f ON p.fach_kuerzel = f.kuerzel\n",
    "WHERE p.note IS NOT NULL\n",
    "''')\n",
    "for row in cursor.fetchall():\n",
    "    print(row)\n"
   ]
  },
  {
   "cell_type": "markdown",
   "metadata": {
    "id": "mC921cKR_4lF"
   },
   "source": [
    "### Durchschnitt aller Noten pro Student (ungewichtet)\n",
    "(ROUND und GROUP BY verwenden)"
   ]
  },
  {
   "cell_type": "code",
   "execution_count": 12,
   "metadata": {
    "id": "XxtVlvsW_kCx"
   },
   "outputs": [
    {
     "ename": "OperationalError",
     "evalue": "near \"ROUND\": syntax error",
     "output_type": "error",
     "traceback": [
      "\u001b[1;31m---------------------------------------------------------------------------\u001b[0m",
      "\u001b[1;31mOperationalError\u001b[0m                          Traceback (most recent call last)",
      "Cell \u001b[1;32mIn[12], line 1\u001b[0m\n\u001b[1;32m----> 1\u001b[0m cursor\u001b[38;5;241m.\u001b[39mexecute(\u001b[38;5;124m'''\u001b[39m\n\u001b[0;32m      2\u001b[0m \u001b[38;5;124mSELECT s.matrikelnummer, s.name, f.bezeichnung, p.note, p.gewichtung\u001b[39m\n\u001b[0;32m      3\u001b[0m \u001b[38;5;124mFROM studenten s\u001b[39m\n\u001b[0;32m      4\u001b[0m \u001b[38;5;124mROUND JOIN pruefungen p ON s.matrikelnummer = p.student_id\u001b[39m\n\u001b[0;32m      5\u001b[0m \u001b[38;5;124mGROUP BY s.matrikelnummer, f.bezeichnung, p.note, p.gewichtung\u001b[39m\n\u001b[0;32m      6\u001b[0m \u001b[38;5;124mHAVING COUNT(p.id) > 0\u001b[39m\n\u001b[0;32m      7\u001b[0m \u001b[38;5;124m'''\u001b[39m)\n\u001b[0;32m      8\u001b[0m \u001b[38;5;28;01mfor\u001b[39;00m row \u001b[38;5;129;01min\u001b[39;00m cursor\u001b[38;5;241m.\u001b[39mfetchall():\n\u001b[0;32m      9\u001b[0m     \u001b[38;5;28mprint\u001b[39m(row)\n",
      "\u001b[1;31mOperationalError\u001b[0m: near \"ROUND\": syntax error"
     ]
    }
   ],
   "source": [
    "cursor.execute('''\n",
    "SELECT s.matrikelnummer, s.name, f.bezeichnung, p.note, p.gewichtung\n",
    "FROM studenten s\n",
    "ROUND JOIN pruefungen p ON s.matrikelnummer = p.student_id\n",
    "GROUP BY s.matrikelnummer, f.bezeichnung, p.note, p.gewichtung\n",
    "HAVING COUNT(p.id) > 0\n",
    "''')\n",
    "for row in cursor.fetchall():\n",
    "    print(row)\n"
   ]
  },
  {
   "cell_type": "markdown",
   "metadata": {
    "id": "gqt9m4xQAJhe"
   },
   "source": [
    "### Gewichtete Gesamtnote pro Student und Fach"
   ]
  },
  {
   "cell_type": "code",
   "execution_count": 9,
   "metadata": {
    "id": "sxwibbO8AB7R"
   },
   "outputs": [
    {
     "name": "stdout",
     "output_type": "stream",
     "text": [
      "('20230001', 'Alice', 'Mathematik', 1.7, 2)\n",
      "('20230001', 'Alice', 'Informatik', 1.3, 2)\n",
      "('20230001', 'Alice', 'Physik', 2.0, 1)\n",
      "('20230001', 'Alice', 'Physik', 3.0, 1)\n",
      "('20230002', 'Bob', 'Mathematik', 2.3, 2)\n",
      "('20230002', 'Bob', 'Informatik', 1.0, 2)\n",
      "('20230002', 'Bob', 'Physik', 2.7, 1)\n",
      "('20230002', 'Bob', 'Elektronik', 1.5, 1)\n"
     ]
    }
   ],
   "source": [
    "cursor.execute('''\n",
    "SELECT s.matrikelnummer, s.name, f.bezeichnung, p.note, p.gewichtung\n",
    "FROM studenten s\n",
    "JOIN pruefungen p ON s.matrikelnummer = p.student_id\n",
    "JOIN faecher f ON p.fach_kuerzel = f.kuerzel\n",
    "WHERE p.note IS NOT NULL\n",
    "''')\n",
    "\n",
    "for row in cursor.fetchall():\n",
    "    print(row)"
   ]
  },
  {
   "cell_type": "markdown",
   "metadata": {
    "id": "jGhVzZI_APTN"
   },
   "source": [
    "### Anzahl der Prüfungen pro Fach\n",
    "(COUNT(*) verwenden)"
   ]
  },
  {
   "cell_type": "code",
   "execution_count": 10,
   "metadata": {
    "id": "bSdbGWxUAL8e"
   },
   "outputs": [
    {
     "name": "stdout",
     "output_type": "stream",
     "text": [
      "('20230001', 'Alice', 'Mathematik', 1.7, 2)\n",
      "('20230001', 'Alice', 'Informatik', 1.3, 2)\n",
      "('20230001', 'Alice', 'Physik', 2.0, 1)\n",
      "('20230001', 'Alice', 'Physik', 3.0, 1)\n",
      "('20230002', 'Bob', 'Mathematik', 2.3, 2)\n",
      "('20230002', 'Bob', 'Informatik', 1.0, 2)\n",
      "('20230002', 'Bob', 'Physik', 2.7, 1)\n",
      "('20230002', 'Bob', 'Elektronik', 1.5, 1)\n"
     ]
    }
   ],
   "source": [
    "cursor.execute('''\n",
    "SELECT s.matrikelnummer, s.name, f.bezeichnung, p.note, p.gewichtung\n",
    "FROM studenten s\n",
    "JOIN pruefungen p ON s.matrikelnummer = p.student_id\n",
    "JOIN faecher f ON p.fach_kuerzel = f.kuerzel\n",
    "WHERE p.note IS NOT NULL\n",
    "''')\n",
    "for row in cursor.fetchall():\n",
    "    print(row)"
   ]
  },
  {
   "cell_type": "markdown",
   "metadata": {
    "id": "55H0ZyP3AVZF"
   },
   "source": [
    "### Alle Prüfungen der Art „Klausur“"
   ]
  },
  {
   "cell_type": "code",
   "execution_count": 1,
   "metadata": {
    "id": "jUr5YgL_ATQ8"
   },
   "outputs": [
    {
     "ename": "NameError",
     "evalue": "name 'cursor' is not defined",
     "output_type": "error",
     "traceback": [
      "\u001b[1;31m---------------------------------------------------------------------------\u001b[0m",
      "\u001b[1;31mNameError\u001b[0m                                 Traceback (most recent call last)",
      "Cell \u001b[1;32mIn[1], line 1\u001b[0m\n\u001b[1;32m----> 1\u001b[0m cursor\u001b[38;5;241m.\u001b[39mexecute(\u001b[38;5;124m'''\u001b[39m\n\u001b[0;32m      2\u001b[0m \u001b[38;5;124mSELECT p.student_id, p.fach_kuerzel, p.bezeichnung, p.note, p.gewichtung\u001b[39m\n\u001b[0;32m      3\u001b[0m \u001b[38;5;124mFROM pruefungen p\u001b[39m\n\u001b[0;32m      4\u001b[0m \u001b[38;5;124mJOIN pruefungen p ON s.matrikelnummer = p.student_id\u001b[39m\n\u001b[0;32m      5\u001b[0m \u001b[38;5;124mJOIN faecher f ON p.fach_kuerzel = f.kuerzel\u001b[39m\n\u001b[0;32m      6\u001b[0m \u001b[38;5;124mWHERE p.note IS NOT NULL\u001b[39m\n\u001b[0;32m      7\u001b[0m \u001b[38;5;124m'''\u001b[39m)\n\u001b[0;32m      8\u001b[0m \u001b[38;5;28;01mfor\u001b[39;00m row \u001b[38;5;129;01min\u001b[39;00m cursor\u001b[38;5;241m.\u001b[39mfetchall():\n\u001b[0;32m      9\u001b[0m     \u001b[38;5;28mprint\u001b[39m(row)\n",
      "\u001b[1;31mNameError\u001b[0m: name 'cursor' is not defined"
     ]
    }
   ],
   "source": [
    "cursor.execute('''\n",
    "SELECT p.student_id, p.fach_kuerzel, p.bezeichnung, p.note, p.gewichtung\n",
    "FROM pruefungen p\n",
    "JOIN pruefungen p ON s.matrikelnummer = p.student_id\n",
    "JOIN faecher f ON p.fach_kuerzel = f.kuerzel\n",
    "WHERE p.note IS NOT NULL\n",
    "''')\n",
    "for row in cursor.fetchall():\n",
    "    print(row)"
   ]
  },
  {
   "cell_type": "markdown",
   "metadata": {
    "id": "ooz_1smaAaOU"
   },
   "source": [
    "### Alle Fächer von Dr. Maier"
   ]
  },
  {
   "cell_type": "code",
   "execution_count": null,
   "metadata": {
    "id": "DaInmN1mAXIb"
   },
   "outputs": [],
   "source": [
    "cursor.execute('''\n",
    "SELECT s.matrikelnummer, s.name, f.bezeichnung, p.note, p.gewichtung\n",
    "FROM studenten s\n",
    "JOIN pruefungen p ON s.matrikelnummer = p.student_id\n",
    "JOIN faecher f ON p.fach_kuerzel = f.kuerzel \n",
    "WHERE p.note IS NOT NULL\n",
    "''')\n",
    "for row in cursor.fetchall():\n",
    "    print(row)"
   ]
  }
 ],
 "metadata": {
  "colab": {
   "authorship_tag": "ABX9TyPAYITeV14hR6apZ+AJQu8M",
   "provenance": []
  },
  "kernelspec": {
   "display_name": "base",
   "language": "python",
   "name": "python3"
  },
  "language_info": {
   "codemirror_mode": {
    "name": "ipython",
    "version": 3
   },
   "file_extension": ".py",
   "mimetype": "text/x-python",
   "name": "python",
   "nbconvert_exporter": "python",
   "pygments_lexer": "ipython3",
   "version": "3.12.7"
  }
 },
 "nbformat": 4,
 "nbformat_minor": 0
}
