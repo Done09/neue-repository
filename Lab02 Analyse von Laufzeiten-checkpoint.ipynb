{
 "cells": [
  {
   "cell_type": "code",
   "execution_count": null,
   "metadata": {
    "colab": {
     "base_uri": "https://localhost:8080/",
     "height": 599
    },
    "executionInfo": {
     "elapsed": 744,
     "status": "ok",
     "timestamp": 1742904302942,
     "user": {
      "displayName": "Tobias Schaffer",
      "userId": "09009542802022320095"
     },
     "user_tz": -60
    },
    "id": "1RfGb6jpuW0p",
    "outputId": "7192d1e9-f5a8-4535-fc99-c79e2fa5700e"
   },
   "outputs": [
    {
     "ename": "SyntaxError",
     "evalue": "expected ':' (4064860709.py, line 24)",
     "output_type": "error",
     "traceback": [
      "\u001b[1;36m  Cell \u001b[1;32mIn[5], line 24\u001b[1;36m\u001b[0m\n\u001b[1;33m    elif liste[mitte]\u001b[0m\n\u001b[1;37m                     ^\u001b[0m\n\u001b[1;31mSyntaxError\u001b[0m\u001b[1;31m:\u001b[0m expected ':'\n"
     ]
    }
   ],
   "source": [
    "import timeit\n",
    "import matplotlib.pyplot as plt\n",
    "import random\n",
    "\n",
    "def linear_search(arr, target):\n",
    "     # TODO:\n",
    "     # Implementieren Sie die lineare Suche\n",
    "     # -1 ausgeben, falls Suche nicht erfolgreich\n",
    "    for index, wert in enumerate (arr):\n",
    "        if wert == target :\n",
    "            return index\n",
    "    return -1\n",
    "    pass\n",
    "\n",
    "def binary_search(arr, target):\n",
    "     # TODO:\n",
    "     # Implementieren Sie die binäre Suche\n",
    "     # -1 ausgeben, falls Suche nicht erfolgreich\n",
    "    \n",
    "            \n",
    "    pass\n",
    "def measure_time(func, arr, *args):\n",
    "    return timeit.timeit(lambda: func(arr, *args), number=10)\n",
    "\n",
    "sizes = [100, 200, 500, 1000, 2000]\n",
    "linear_times = []\n",
    "binary_times = []\n",
    "\n",
    "for size in sizes:\n",
    "    arr = random.sample(range(size * 10), size)\n",
    "    sorted_arr = sorted(arr)\n",
    "    target = arr[random.randint(0, size - 1)]\n",
    "    # TODO: Aktivieren Sie die folgenden Zeilen nach Implementierung der Suchalgorithmen\n",
    "    linear_times.append(measure_time(linear_search, arr, target))\n",
    "    binary_times.append(measure_time(binary_search, sorted_arr, target))\n",
    "\n",
    "plt.figure(figsize=(8, 6))\n",
    "# TODO: Aktivieren Sie die folgenden Zeilen nach Implementierung der Suchalgorithmen\n",
    "plt.plot(sizes, linear_times, label='Linear Search', marker='o')\n",
    "plt.plot(sizes, binary_times, label='Binary Search', marker='s')\n",
    "plt.xlabel(\"Input Size\")\n",
    "plt.ylabel(\"Time (s)\")\n",
    "plt.title(\"Search Algorithm Performance Analysis\")\n",
    "plt.legend()\n",
    "plt.grid()\n",
    "plt.show()\n"
   ]
  },
  {
   "cell_type": "code",
   "execution_count": null,
   "metadata": {
    "id": "kR0sEJrZv1BQ"
   },
   "outputs": [],
   "source": []
  }
 ],
 "metadata": {
  "colab": {
   "authorship_tag": "ABX9TyOwCh3W8/Z9Lqd/ePXHho7r",
   "provenance": []
  },
  "kernelspec": {
   "display_name": "Python [conda env:base] *",
   "language": "python",
   "name": "conda-base-py"
  },
  "language_info": {
   "codemirror_mode": {
    "name": "ipython",
    "version": 3
   },
   "file_extension": ".py",
   "mimetype": "text/x-python",
   "name": "python",
   "nbconvert_exporter": "python",
   "pygments_lexer": "ipython3",
   "version": "3.12.7"
  }
 },
 "nbformat": 4,
 "nbformat_minor": 4
}
