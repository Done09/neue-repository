{
 "cells": [
  {
   "cell_type": "code",
   "execution_count": 5,
   "metadata": {
    "executionInfo": {
     "elapsed": 41,
     "status": "ok",
     "timestamp": 1743517443748,
     "user": {
      "displayName": "Tobias Schaffer",
      "userId": "09009542802022320095"
     },
     "user_tz": -120
    },
    "id": "LBHvzcgw3CQ8"
   },
   "outputs": [],
   "source": [
    "# Adressbuch-Programm\n",
    "\n",
    "# Das Adressbuch als Dictionary\n",
    "adressbuch = {\"Max Mustermann \": {\" Telefon \": \" 12345678 \", \"E-Mail \": \" max@example .com\"},\n",
    "\" Erika Muster \": {\" Telefon \": \" 87654321 \", \"E-Mail \": \" erika@example .com\"}}\n",
    "\n",
    "def eintrag_hinzufuegen():\n",
    "    name = input(\"Namen: \")\n",
    "    telefon = input(\"Telefon: \")\n",
    "    email = input(\"E-Mail: \")\n",
    "    \n",
    "    adressbuch[name] = {\"Telefon\":telefon,\"E-Mail\":email}\n",
    "    return\n",
    "\n",
    "def eintrag_suchen():\n",
    "    \"\"\"Funktion zur Suche eines Eintrags\"\"\"\n",
    "    name = input(\"Geben Sie den Namen ein, den Sie suchen: \")\n",
    "    if name in adressbuch:\n",
    "        print(f\"Name: {name}, Telefon: {adressbuch[name]['Telefon']}, E-Mail: {adressbuch[name]['E-Mail']}\")\n",
    "    else:\n",
    "        print(\"Eintrag nicht gefunden.\")\n",
    "\n",
    "def eintrag_aktualisieren():\n",
    "    \"\"\"TODO: Funktion zur Aktualisierung eines bestehenden Eintrags ergänzen\"\"\"\n",
    "    Name = input(\"Namen: \")\n",
    "    Telefon = input(\"Telefon: \")\n",
    "    Email = input(\"E-Mail: \")\n",
    "    \n",
    "    NeuerEintrag[Name] = {\"Telefon\":Telefon,\"E-Mail\":Email}\n",
    "\n",
    "    adressbuch.update(NeuerEintrag)\n",
    "    print adressbuch\n",
    "    \n",
    "    pass\n",
    "\n",
    "def eintrag_loeschen():\n",
    "    \"\"\"TODO: Funktion zum Löschen eines Eintrags ergänzen\"\"\"\n",
    "    pass\n",
    "\n",
    "def alle_eintraege_anzeigen():\n",
    "    \"\"\"Funktion zur Anzeige aller Einträge\"\"\"\n",
    "    if not adressbuch:\n",
    "        print(\"Das Adressbuch ist leer.\")\n",
    "    else:\n",
    "        for name, details in adressbuch.items():\n",
    "            print(f\"Name: {name}, Telefon: {details['Telefon']}, E-Mail: {details['E-Mail']}\")\n",
    "\n",
    "def menue():\n",
    "    while True:\n",
    "        print(\"\\nAdressbuch\")\n",
    "        print(\"1: Eintrag hinzufügen\")\n",
    "        print(\"2: Eintrag suchen\")\n",
    "        print(\"3: Eintrag aktualisieren\")\n",
    "        print(\"4: Eintrag löschen\")\n",
    "        print(\"5: Alle Einträge anzeigen\")\n",
    "        print(\"6: Beenden\")\n",
    "        auswahl = input(\"Wählen Sie eine Option: \")\n",
    "\n",
    "        if auswahl == \"1\":\n",
    "            eintrag_hinzufuegen()\n",
    "        elif auswahl == \"2\":\n",
    "            eintrag_suchen()\n",
    "        elif auswahl == \"3\":\n",
    "            eintrag_aktualisieren()\n",
    "        elif auswahl == \"4\":\n",
    "            eintrag_loeschen()\n",
    "        elif auswahl == \"5\":\n",
    "            alle_eintraege_anzeigen()\n",
    "        elif auswahl == \"6\":\n",
    "            break\n",
    "        else:\n",
    "            print(\"Ungültige Eingabe, bitte erneut versuchen.\")\n",
    "\n"
   ]
  },
  {
   "cell_type": "code",
   "execution_count": null,
   "metadata": {
    "colab": {
     "base_uri": "https://localhost:8080/"
    },
    "executionInfo": {
     "elapsed": 241643,
     "status": "ok",
     "timestamp": 1743517688110,
     "user": {
      "displayName": "Tobias Schaffer",
      "userId": "09009542802022320095"
     },
     "user_tz": -120
    },
    "id": "qZmRgToq3H7R",
    "outputId": "35dd206d-6665-4aaa-d86e-9e24462b5baa"
   },
   "outputs": [
    {
     "name": "stdout",
     "output_type": "stream",
     "text": [
      "\n",
      "Adressbuch\n",
      "1: Eintrag hinzufügen\n",
      "2: Eintrag suchen\n",
      "3: Eintrag aktualisieren\n",
      "4: Eintrag löschen\n",
      "5: Alle Einträge anzeigen\n",
      "6: Beenden\n"
     ]
    },
    {
     "name": "stdin",
     "output_type": "stream",
     "text": [
      "Wählen Sie eine Option:  2\n",
      "Geben Sie den Namen ein, den Sie suchen:  Max Mustermann\n"
     ]
    },
    {
     "name": "stdout",
     "output_type": "stream",
     "text": [
      "Eintrag nicht gefunden.\n",
      "\n",
      "Adressbuch\n",
      "1: Eintrag hinzufügen\n",
      "2: Eintrag suchen\n",
      "3: Eintrag aktualisieren\n",
      "4: Eintrag löschen\n",
      "5: Alle Einträge anzeigen\n",
      "6: Beenden\n"
     ]
    },
    {
     "name": "stdin",
     "output_type": "stream",
     "text": [
      "Wählen Sie eine Option:  2\n",
      "Geben Sie den Namen ein, den Sie suchen:  Patrick Bierl\n"
     ]
    },
    {
     "name": "stdout",
     "output_type": "stream",
     "text": [
      "Eintrag nicht gefunden.\n",
      "\n",
      "Adressbuch\n",
      "1: Eintrag hinzufügen\n",
      "2: Eintrag suchen\n",
      "3: Eintrag aktualisieren\n",
      "4: Eintrag löschen\n",
      "5: Alle Einträge anzeigen\n",
      "6: Beenden\n"
     ]
    },
    {
     "name": "stdin",
     "output_type": "stream",
     "text": [
      "Wählen Sie eine Option:  1\n",
      "Namen:  Patrick\n",
      "Telefon:  099\n",
      "E-Mail:  patrickbierl@\n"
     ]
    },
    {
     "name": "stdout",
     "output_type": "stream",
     "text": [
      "\n",
      "Adressbuch\n",
      "1: Eintrag hinzufügen\n",
      "2: Eintrag suchen\n",
      "3: Eintrag aktualisieren\n",
      "4: Eintrag löschen\n",
      "5: Alle Einträge anzeigen\n",
      "6: Beenden\n"
     ]
    },
    {
     "name": "stdin",
     "output_type": "stream",
     "text": [
      "Wählen Sie eine Option:  2\n",
      "Geben Sie den Namen ein, den Sie suchen:  Patrick\n"
     ]
    },
    {
     "name": "stdout",
     "output_type": "stream",
     "text": [
      "Name: Patrick, Telefon: 099, E-Mail: patrickbierl@\n",
      "\n",
      "Adressbuch\n",
      "1: Eintrag hinzufügen\n",
      "2: Eintrag suchen\n",
      "3: Eintrag aktualisieren\n",
      "4: Eintrag löschen\n",
      "5: Alle Einträge anzeigen\n",
      "6: Beenden\n"
     ]
    },
    {
     "name": "stdin",
     "output_type": "stream",
     "text": [
      "Wählen Sie eine Option:  3\n"
     ]
    },
    {
     "name": "stdout",
     "output_type": "stream",
     "text": [
      "\n",
      "Adressbuch\n",
      "1: Eintrag hinzufügen\n",
      "2: Eintrag suchen\n",
      "3: Eintrag aktualisieren\n",
      "4: Eintrag löschen\n",
      "5: Alle Einträge anzeigen\n",
      "6: Beenden\n"
     ]
    },
    {
     "name": "stdin",
     "output_type": "stream",
     "text": [
      "Wählen Sie eine Option:  3\n"
     ]
    },
    {
     "name": "stdout",
     "output_type": "stream",
     "text": [
      "\n",
      "Adressbuch\n",
      "1: Eintrag hinzufügen\n",
      "2: Eintrag suchen\n",
      "3: Eintrag aktualisieren\n",
      "4: Eintrag löschen\n",
      "5: Alle Einträge anzeigen\n",
      "6: Beenden\n"
     ]
    },
    {
     "name": "stdin",
     "output_type": "stream",
     "text": [
      "Wählen Sie eine Option:  3\n"
     ]
    },
    {
     "name": "stdout",
     "output_type": "stream",
     "text": [
      "\n",
      "Adressbuch\n",
      "1: Eintrag hinzufügen\n",
      "2: Eintrag suchen\n",
      "3: Eintrag aktualisieren\n",
      "4: Eintrag löschen\n",
      "5: Alle Einträge anzeigen\n",
      "6: Beenden\n"
     ]
    },
    {
     "name": "stdin",
     "output_type": "stream",
     "text": [
      "Wählen Sie eine Option:  1\n",
      "Namen:  Simon Graichen\n",
      "Telefon:  099\n"
     ]
    },
    {
     "name": "stdout",
     "output_type": "stream",
     "text": [
      "Wählen Sie eine Option:  1\n",
      "Namen:  Nico Hiebl\n",
      "Telefon:  0998472\n",
      "Email:  nico.hiebl@stud.th-deg.de\n"
     ]
    },
    {
     "name": "stdout",
     "output_type": "stream",
     "text": [
      "\n",
      "Adressbuch\n",
      "1: Eintrag hinzufügen\n",
      "2: Eintrag suchen\n",
      "3: Eintrag aktualisieren\n",
      "4: Eintrag löschen\n",
      "5: Alle Einträge anzeigen\n",
      "6: Beenden\n"
     ]
    },
    {
     "name": "stdout",
     "output_type": "stream",
     "text": [
      "Wählen Sie eine Option:  1\n",
      "Namen:  Patrick Bierl\n",
      "Telefon:  0997176\n",
      "Email:  patrick.bierl@stud.th-deg.de\n"
     ]
    },
    {
     "name": "stdout",
     "output_type": "stream",
     "text": [
      "\n",
      "Adressbuch\n",
      "1: Eintrag hinzufügen\n",
      "2: Eintrag suchen\n",
      "3: Eintrag aktualisieren\n",
      "4: Eintrag löschen\n",
      "5: Alle Einträge anzeigen\n",
      "6: Beenden\n"
     ]
    },
    {
     "name": "stdout",
     "output_type": "stream",
     "text": [
      "Wählen Sie eine Option:  2\n",
      "Geben Sie den Namen ein, den Sie suchen:  Patrick Bierl\n"
     ]
    },
    {
     "name": "stdout",
     "output_type": "stream",
     "text": [
      "Eintrag nicht gefunden.\n",
      "\n",
      "Adressbuch\n",
      "1: Eintrag hinzufügen\n",
      "2: Eintrag suchen\n",
      "3: Eintrag aktualisieren\n",
      "4: Eintrag löschen\n",
      "5: Alle Einträge anzeigen\n",
      "6: Beenden\n"
     ]
    },
    {
     "name": "stdout",
     "output_type": "stream",
     "text": [
      "Wählen Sie eine Option:  1\n",
      "Namen:  Patrick Bierl\n",
      "Telefon:  099\n",
      "Email:  patrickbierl\n"
     ]
    },
    {
     "name": "stdout",
     "output_type": "stream",
     "text": [
      "\n",
      "Adressbuch\n",
      "1: Eintrag hinzufügen\n",
      "2: Eintrag suchen\n",
      "3: Eintrag aktualisieren\n",
      "4: Eintrag löschen\n",
      "5: Alle Einträge anzeigen\n",
      "6: Beenden\n"
     ]
    },
    {
     "name": "stdout",
     "output_type": "stream",
     "text": [
      "Wählen Sie eine Option:  2\n",
      "Geben Sie den Namen ein, den Sie suchen:  Patrick Bierl\n"
     ]
    },
    {
     "name": "stdout",
     "output_type": "stream",
     "text": [
      "Eintrag nicht gefunden.\n",
      "\n",
      "Adressbuch\n",
      "1: Eintrag hinzufügen\n",
      "2: Eintrag suchen\n",
      "3: Eintrag aktualisieren\n",
      "4: Eintrag löschen\n",
      "5: Alle Einträge anzeigen\n",
      "6: Beenden\n"
     ]
    },
    {
     "name": "stdout",
     "output_type": "stream",
     "text": [
      "Wählen Sie eine Option:  1\n",
      "Namen:  p\n",
      "Telefon:  099\n",
      "Email:  pppp\n"
     ]
    },
    {
     "name": "stdout",
     "output_type": "stream",
     "text": [
      "\n",
      "Adressbuch\n",
      "1: Eintrag hinzufügen\n",
      "2: Eintrag suchen\n",
      "3: Eintrag aktualisieren\n",
      "4: Eintrag löschen\n",
      "5: Alle Einträge anzeigen\n",
      "6: Beenden\n"
     ]
    },
    {
     "name": "stdout",
     "output_type": "stream",
     "text": [
      "Wählen Sie eine Option:  2\n",
      "Geben Sie den Namen ein, den Sie suchen:  p\n"
     ]
    },
    {
     "name": "stdout",
     "output_type": "stream",
     "text": [
      "Eintrag nicht gefunden.\n",
      "\n",
      "Adressbuch\n",
      "1: Eintrag hinzufügen\n",
      "2: Eintrag suchen\n",
      "3: Eintrag aktualisieren\n",
      "4: Eintrag löschen\n",
      "5: Alle Einträge anzeigen\n",
      "6: Beenden\n"
     ]
    },
    {
     "name": "stdout",
     "output_type": "stream",
     "text": [
      "Wählen Sie eine Option:  1\n",
      "Namen:  p\n",
      "Telefon:  099\n",
      "Email:  ppp\n"
     ]
    },
    {
     "name": "stdout",
     "output_type": "stream",
     "text": [
      "\n",
      "Adressbuch\n",
      "1: Eintrag hinzufügen\n",
      "2: Eintrag suchen\n",
      "3: Eintrag aktualisieren\n",
      "4: Eintrag löschen\n",
      "5: Alle Einträge anzeigen\n",
      "6: Beenden\n"
     ]
    },
    {
     "name": "stdout",
     "output_type": "stream",
     "text": [
      "Wählen Sie eine Option:  2\n",
      "Geben Sie den Namen ein, den Sie suchen:  p\n"
     ]
    },
    {
     "name": "stdout",
     "output_type": "stream",
     "text": [
      "Eintrag nicht gefunden.\n",
      "\n",
      "Adressbuch\n",
      "1: Eintrag hinzufügen\n",
      "2: Eintrag suchen\n",
      "3: Eintrag aktualisieren\n",
      "4: Eintrag löschen\n",
      "5: Alle Einträge anzeigen\n",
      "6: Beenden\n"
     ]
    }
   ],
   "source": [
    "## Menü starten\n",
    "menue()"
   ]
  },
  {
   "cell_type": "code",
   "execution_count": null,
   "metadata": {},
   "outputs": [],
   "source": []
  },
  {
   "cell_type": "code",
   "execution_count": null,
   "metadata": {},
   "outputs": [],
   "source": []
  }
 ],
 "metadata": {
  "colab": {
   "authorship_tag": "ABX9TyO6SSaVMRFR/rTPMJN/Ehux",
   "provenance": []
  },
  "kernelspec": {
   "display_name": "Python [conda env:base] *",
   "language": "python",
   "name": "conda-base-py"
  },
  "language_info": {
   "codemirror_mode": {
    "name": "ipython",
    "version": 3
   },
   "file_extension": ".py",
   "mimetype": "text/x-python",
   "name": "python",
   "nbconvert_exporter": "python",
   "pygments_lexer": "ipython3",
   "version": "3.12.7"
  }
 },
 "nbformat": 4,
 "nbformat_minor": 4
}
