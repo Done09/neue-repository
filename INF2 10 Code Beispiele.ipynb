{
 "cells": [
  {
   "cell_type": "markdown",
   "metadata": {
    "id": "7DaMBhnyssF3"
   },
   "source": [
    "## Textdatei schreiben und lesen"
   ]
  },
  {
   "cell_type": "code",
   "execution_count": 1,
   "metadata": {
    "id": "7d7kuTU1ssN-"
   },
   "outputs": [
    {
     "name": "stdout",
     "output_type": "stream",
     "text": [
      "Hallo Welt\n",
      "Dies ist eine zweite Zeile\n"
     ]
    }
   ],
   "source": [
    "# Schreiben\n",
    "with open(\"beispiel.txt\", \"w\") as f:\n",
    "    f.write(\"Hallo Welt\\n\")\n",
    "    f.write(\"Dies ist eine zweite Zeile\\n\")\n",
    "\n",
    "# Lesen\n",
    "with open(\"beispiel.txt\", \"r\") as f:\n",
    "    for zeile in f:\n",
    "        print(zeile.strip())"
   ]
  },
  {
   "cell_type": "markdown",
   "metadata": {
    "id": "ABqb_dwHs7Is"
   },
   "source": [
    "## Binärstream lesen"
   ]
  },
  {
   "cell_type": "code",
   "execution_count": 2,
   "metadata": {
    "id": "oAdyjiuNsxv4"
   },
   "outputs": [
    {
     "name": "stdout",
     "output_type": "stream",
     "text": [
      "b'H'\n",
      "48\n",
      "-\n",
      "b'a'\n",
      "61\n",
      "-\n",
      "b'l'\n",
      "6c\n",
      "-\n",
      "b'l'\n",
      "6c\n",
      "-\n",
      "b'o'\n",
      "6f\n",
      "-\n",
      "b' '\n",
      "20\n",
      "-\n",
      "b'W'\n",
      "57\n",
      "-\n",
      "b'e'\n",
      "65\n",
      "-\n",
      "b'l'\n",
      "6c\n",
      "-\n",
      "b't'\n",
      "74\n",
      "-\n",
      "b'\\r'\n",
      "0d\n",
      "-\n",
      "b'\\n'\n",
      "0a\n",
      "-\n",
      "b'D'\n",
      "44\n",
      "-\n",
      "b'i'\n",
      "69\n",
      "-\n",
      "b'e'\n",
      "65\n",
      "-\n",
      "b's'\n",
      "73\n",
      "-\n",
      "b' '\n",
      "20\n",
      "-\n",
      "b'i'\n",
      "69\n",
      "-\n",
      "b's'\n",
      "73\n",
      "-\n",
      "b't'\n",
      "74\n",
      "-\n",
      "b' '\n",
      "20\n",
      "-\n",
      "b'e'\n",
      "65\n",
      "-\n",
      "b'i'\n",
      "69\n",
      "-\n",
      "b'n'\n",
      "6e\n",
      "-\n",
      "b'e'\n",
      "65\n",
      "-\n",
      "b' '\n",
      "20\n",
      "-\n",
      "b'z'\n",
      "7a\n",
      "-\n",
      "b'w'\n",
      "77\n",
      "-\n",
      "b'e'\n",
      "65\n",
      "-\n",
      "b'i'\n",
      "69\n",
      "-\n",
      "b't'\n",
      "74\n",
      "-\n",
      "b'e'\n",
      "65\n",
      "-\n",
      "b' '\n",
      "20\n",
      "-\n",
      "b'Z'\n",
      "5a\n",
      "-\n",
      "b'e'\n",
      "65\n",
      "-\n",
      "b'i'\n",
      "69\n",
      "-\n",
      "b'l'\n",
      "6c\n",
      "-\n",
      "b'e'\n",
      "65\n",
      "-\n",
      "b'\\r'\n",
      "0d\n",
      "-\n",
      "b'\\n'\n",
      "0a\n",
      "-\n"
     ]
    }
   ],
   "source": [
    "with open(\"beispiel.txt\", \"rb\") as f:\n",
    "    while True:\n",
    "        b = f.read(1)  # Lese ein Byte\n",
    "        if not b:\n",
    "            break\n",
    "        print(b)        # z.B. b'\\xFF'\n",
    "        print(b.hex())  # Ausgabe in hexadezimaler Form\n",
    "        print('-')"
   ]
  },
  {
   "cell_type": "markdown",
   "metadata": {
    "id": "V38WHZLnt9Hd"
   },
   "source": [
    "## Big-Endian vs. Little-Endian"
   ]
  },
  {
   "cell_type": "code",
   "execution_count": 3,
   "metadata": {
    "id": "N-DcEVKhtFG0"
   },
   "outputs": [
    {
     "name": "stdout",
     "output_type": "stream",
     "text": [
      "258\n",
      "513\n"
     ]
    }
   ],
   "source": [
    "daten = b'\\x01\\x02'\n",
    "print(int.from_bytes(daten, byteorder=\"big\"))\n",
    "print(int.from_bytes(daten, byteorder=\"little\"))"
   ]
  },
  {
   "cell_type": "markdown",
   "metadata": {
    "id": "IkZ2IfMFuNIL"
   },
   "source": [
    "## JSON"
   ]
  },
  {
   "cell_type": "code",
   "execution_count": 4,
   "metadata": {
    "id": "K3M37SYMuA8c"
   },
   "outputs": [
    {
     "name": "stdout",
     "output_type": "stream",
     "text": [
      "Anna\n"
     ]
    }
   ],
   "source": [
    "import json\n",
    "\n",
    "daten = {\"name\": \"Anna\", \"alter\": 22, \"interessen\": [\"Informatik\", \"Musik\"]}\n",
    "\n",
    "# In Datei speichern\n",
    "with open(\"daten.json\", \"w\") as f:\n",
    "    json.dump(daten, f, indent=2)\n",
    "\n",
    "# Aus Datei lesen\n",
    "with open(\"daten.json\", \"r\") as f:\n",
    "    geladene_daten = json.load(f)\n",
    "    print(geladene_daten[\"name\"])"
   ]
  },
  {
   "cell_type": "code",
   "execution_count": 5,
   "metadata": {
    "id": "wIfXOYZVuPmp"
   },
   "outputs": [
    {
     "name": "stdout",
     "output_type": "stream",
     "text": [
      "{\n",
      "  \"name\": \"Anna\",\n",
      "  \"alter\": 22,\n",
      "  \"interessen\": [\n",
      "    \"Informatik\",\n",
      "    \"Musik\"\n",
      "  ]\n",
      "}\n"
     ]
    }
   ],
   "source": [
    "# Als String ausgeben\n",
    "print(json.dumps(daten, indent=2))"
   ]
  },
  {
   "cell_type": "markdown",
   "metadata": {
    "id": "gzSQXs4puqFJ"
   },
   "source": [
    "## CSV"
   ]
  },
  {
   "cell_type": "code",
   "execution_count": 6,
   "metadata": {
    "id": "HcKCSVMAuiro"
   },
   "outputs": [
    {
     "name": "stdout",
     "output_type": "stream",
     "text": [
      "['Name', 'Alter']\n",
      "['Max', '30']\n",
      "['Sophie', '25']\n"
     ]
    }
   ],
   "source": [
    "import csv\n",
    "\n",
    "# Schreiben\n",
    "with open(\"personen.csv\", \"w\", newline=\"\") as f:\n",
    "    writer = csv.writer(f)\n",
    "    writer.writerow([\"Name\", \"Alter\"])\n",
    "    writer.writerow([\"Max\", 30])\n",
    "    writer.writerow([\"Sophie\", 25])\n",
    "\n",
    "\n",
    "# Lesen\n",
    "with open(\"personen.csv\", \"r\") as f:\n",
    "    reader = csv.reader(f)\n",
    "    for zeile in reader:\n",
    "        print(zeile)"
   ]
  },
  {
   "cell_type": "markdown",
   "metadata": {
    "id": "5JZA7XI2vAUB"
   },
   "source": [
    "CSV mit Dictionaries"
   ]
  },
  {
   "cell_type": "code",
   "execution_count": 7,
   "metadata": {
    "id": "glWYsIW6uvAX"
   },
   "outputs": [
    {
     "name": "stdout",
     "output_type": "stream",
     "text": [
      "Max ist 30 Jahre alt.\n",
      "Sophie ist 25 Jahre alt.\n"
     ]
    }
   ],
   "source": [
    "# CSV-Datei mit Dictionary schreiben\n",
    "with open(\"personen_dict.csv\", \"w\", newline=\"\") as f:\n",
    "    fieldnames = [\"Name\", \"Alter\"]\n",
    "    writer = csv.DictWriter(f, fieldnames=fieldnames)\n",
    "    writer.writeheader()\n",
    "    writer.writerow({\"Name\": \"Max\", \"Alter\": 30})\n",
    "    writer.writerow({\"Name\": \"Sophie\", \"Alter\": 25})\n",
    "\n",
    "# CSV-Datei mit Dictionary lesen\n",
    "with open(\"personen_dict.csv\", \"r\") as f:\n",
    "    reader = csv.DictReader(f)\n",
    "    for eintrag in reader:\n",
    "        print(eintrag[\"Name\"], \"ist\", eintrag[\"Alter\"], \"Jahre alt.\")"
   ]
  },
  {
   "cell_type": "markdown",
   "metadata": {
    "id": "SXueElg2vGOv"
   },
   "source": [
    "CSV mit Dezimalkomma"
   ]
  },
  {
   "cell_type": "code",
   "execution_count": 8,
   "metadata": {
    "id": "D6Fn0feDvCO4"
   },
   "outputs": [
    {
     "name": "stdout",
     "output_type": "stream",
     "text": [
      "['Sensor', 'Wert']\n",
      "['Temperatur', '23,5']\n",
      "['Feuchtigkeit', '68,2']\n"
     ]
    }
   ],
   "source": [
    "# Schreiben mit Semikolon als Trennzeichen\n",
    "with open(\"messdaten.csv\", \"w\", newline=\"\") as f:\n",
    "    writer = csv.writer(f, delimiter=\";\")\n",
    "    writer.writerow([\"Sensor\", \"Wert\"])\n",
    "    writer.writerow([\"Temperatur\", \"23,5\"])\n",
    "    writer.writerow([\"Feuchtigkeit\", \"68,2\"])\n",
    "\n",
    "# Lesen mit Semikolon als Trennzeichen\n",
    "with open(\"messdaten.csv\", \"r\") as f:\n",
    "    reader = csv.reader(f, delimiter=\";\")\n",
    "    for zeile in reader:\n",
    "        print(zeile)"
   ]
  },
  {
   "cell_type": "code",
   "execution_count": 9,
   "metadata": {
    "id": "7wWOrdHMvQCm"
   },
   "outputs": [
    {
     "name": "stdout",
     "output_type": "stream",
     "text": [
      "Temperatur: 23.5\n",
      "Feuchtigkeit: 68.2\n"
     ]
    }
   ],
   "source": [
    "# Umwandeln in float\n",
    "with open(\"messdaten.csv\", \"r\") as f:\n",
    "    reader = csv.reader(f, delimiter=\";\")\n",
    "    next(reader)  # skip header\n",
    "    for zeile in reader:\n",
    "        print(f\"{zeile[0]}: {float(zeile[1].replace(',', '.'))}\")"
   ]
  },
  {
   "cell_type": "markdown",
   "metadata": {
    "id": "2IjqvmV4xYrb"
   },
   "source": [
    "## XML"
   ]
  },
  {
   "cell_type": "code",
   "execution_count": 10,
   "metadata": {
    "id": "YXV50gdvxZWT"
   },
   "outputs": [
    {
     "name": "stdout",
     "output_type": "stream",
     "text": [
      "Name: Lisa\n",
      "Alter: 29\n"
     ]
    }
   ],
   "source": [
    "import xml.etree.ElementTree as ET\n",
    "\n",
    "# XML-Daten als Zeichenkette\n",
    "xml_daten = '''\n",
    "<person>\n",
    "  <name>Lisa</name>\n",
    "  <alter>29</alter>\n",
    "</person>\n",
    "'''\n",
    "\n",
    "# Parsen in einen Element-Baum\n",
    "root = ET.fromstring(xml_daten)\n",
    "\n",
    "# Zugriff auf einzelne Elemente\n",
    "print(\"Name:\", root.find(\"name\").text)\n",
    "print(\"Alter:\", root.find(\"alter\").text)\n",
    "\n",
    "# In Datei speichern\n",
    "tree = ET.ElementTree(root)\n",
    "tree.write(\"person.xml\", encoding=\"utf-8\", xml_declaration=True)"
   ]
  },
  {
   "cell_type": "code",
   "execution_count": 11,
   "metadata": {
    "id": "U_nwVsAZxgtk"
   },
   "outputs": [
    {
     "name": "stdout",
     "output_type": "stream",
     "text": [
      "Lisa\n"
     ]
    }
   ],
   "source": [
    "# Aus Datei lesen\n",
    "tree = ET.parse(\"person.xml\")\n",
    "root = tree.getroot()\n",
    "print(root.find(\"name\").text)"
   ]
  },
  {
   "cell_type": "markdown",
   "metadata": {
    "id": "YiWUwo82yJTd"
   },
   "source": [
    "Zugriff auf Attribute"
   ]
  },
  {
   "cell_type": "code",
   "execution_count": 12,
   "metadata": {
    "id": "li-HW8Yex_lE"
   },
   "outputs": [
    {
     "name": "stdout",
     "output_type": "stream",
     "text": [
      "ID: 42\n"
     ]
    }
   ],
   "source": [
    "xml_daten = '''\n",
    "<person id=\"42\">\n",
    "  <name>Lisa</name>\n",
    "</person>\n",
    "'''\n",
    "\n",
    "root = ET.fromstring(xml_daten)\n",
    "print(\"ID:\", root.attrib[\"id\"])  # Zugriff auf das Attribut \"id\""
   ]
  },
  {
   "cell_type": "code",
   "execution_count": 13,
   "metadata": {
    "id": "qXSJNYxG0vjN"
   },
   "outputs": [
    {
     "name": "stdout",
     "output_type": "stream",
     "text": [
      "ID: 42\n",
      "ID: 43\n"
     ]
    }
   ],
   "source": [
    "xml_daten = '''\n",
    "<person id=\"42\">\n",
    "  <name>Lisa</name>\n",
    "</person>\n",
    "'''\n",
    "\n",
    "root = ET.fromstring(xml_daten)\n",
    "\n",
    "# Zugriff auf das Attribut \"id\"\n",
    "print(\"ID:\", root.attrib[\"id\"])\n",
    "\n",
    "# Attribut \"id\" schreiben\n",
    "root.set(\"id\", \"43\")\n",
    "print(\"ID:\", root.attrib[\"id\"])"
   ]
  },
  {
   "cell_type": "code",
   "execution_count": null,
   "metadata": {
    "id": "Kg-UJ-QL5_AK"
   },
   "outputs": [],
   "source": []
  }
 ],
 "metadata": {
  "colab": {
   "authorship_tag": "ABX9TyNSbd240lM+7BQDjjOvWSeg",
   "provenance": []
  },
  "kernelspec": {
   "display_name": "base",
   "language": "python",
   "name": "python3"
  },
  "language_info": {
   "codemirror_mode": {
    "name": "ipython",
    "version": 3
   },
   "file_extension": ".py",
   "mimetype": "text/x-python",
   "name": "python",
   "nbconvert_exporter": "python",
   "pygments_lexer": "ipython3",
   "version": "3.12.7"
  }
 },
 "nbformat": 4,
 "nbformat_minor": 0
}
