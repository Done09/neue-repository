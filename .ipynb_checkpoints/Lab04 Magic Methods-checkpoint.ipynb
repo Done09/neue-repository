{
 "cells": [
  {
   "cell_type": "code",
   "execution_count": null,
   "metadata": {
    "id": "DtuL_Wz7AaZf"
   },
   "outputs": [],
   "source": [
    "# Vektor-Klasse mit Magic Methods\n",
    "\n",
    "class Vektor:\n",
    "    def __init__(self, x, y):\n",
    "        \"\"\"Initialisiert einen Vektor mit x- und y-Koordinate.\"\"\"\n",
    "        self.x = x\n",
    "        self.y = y\n",
    "\n",
    "def main ():\n",
    "    v1 = Vektor (3, 4)\n",
    "    print (v1)\n",
    "\n",
    "if __name__ == \" __main__ \":\n",
    "main ()\n",
    "    # TODO: Implementieren Sie die Methode zur Ausgabe des Vektors\n",
    "    def __str__(self):\n",
    "    #   \"\"\"Gibt eine lesbare Darstellung des Vektors zurück.\"\"\"\n",
    "    #   ...\n",
    "\n",
    "    def __add__(self, anderer):\n",
    "        \"\"\"ErmÖglicht die Addition zweier Vektoren.\"\"\"\n",
    "        return Vektor(self.x + anderer.x, self.y + anderer.y)\n",
    "\n",
    "    # TODO: Implementieren Sie die Methode zur Subtraktion zweier Vektoren\n",
    "    def __sub__(self, anderer):\n",
    "    #   \"\"\"Ermöglicht die Subtraktion zweier Vektoren.\"\"\"\n",
    "    #   ...\n",
    "\n",
    "    # TODO: Implementieren Sie die Methode zur skalaren Multiplikation\n",
    "    def __mul__(self, skalar):\n",
    "    #   \"\"\"Ermöglicht die skalare Multiplikation.\"\"\"\n",
    "    #   ...\n",
    "\n",
    "    # TODO: Implementieren Sie die Vergleichsmethode für zwei Vektoren\n",
    "    def __eq__(self, anderer):\n",
    "    #   \"\"\"Vergleicht zwei Vektoren auf Gleichheit.\"\"\"\n",
    "    #   ...\n",
    "\n",
    "    # TODO: Implementieren Sie die Methode zur elementweisen Potenzierung\n",
    "    def __pow__(self, exponent):\n",
    "    #   \"\"\"Ermöglicht die elementweise Potenzierung des Vektors.\"\"\"\n",
    "    #   ...\n",
    "\n",
    "    # TODO: Implementieren Sie die Methode für das Skalarprod. zweier Vektoren\n",
    "    def __matmul__(self, anderer):\n",
    "    #   \"\"\"Ermöglicht das Skalarprodukt zweier Vektoren.\"\"\"\n",
    "    #   ...\n",
    "\n",
    "# Testfälle für die Vektor-Klasse\n",
    "def main():\n",
    "    v1 = Vektor(3, 4)\n",
    "    v2 = Vektor(1, 2)\n",
    "\n",
    "    # TODO: Aktivieren Sie die folgenden Zeilen nach Implementierung der Methoden\n",
    "    print(\"Vektor 1:\", v1)\n",
    "    print(\"Vektor 2:\", v2)\n",
    "\n",
    "    print(\"Addition:\", v1 + v2)\n",
    "\n",
    "    # TODO: Aktivieren Sie die folgenden Zeilen nach Implementierung der Methoden\n",
    "    # print(\"Subtraktion:\", v1 - v2)\n",
    "    # print(\"Multiplikation mit Skalar 2:\", v1 * 2)\n",
    "    # print(\"Vergleich (sollte False sein):\", v1 == v2)\n",
    "    # print(\"Vergleich (sollte True sein):\", v1 == Vektor(3, 4))\n",
    "    # print(\"Elementweise Potenzierung mit Exponent 2:\", v1 ** 2)\n",
    "    # print(\"Skalarprodukt (Matmul-Operator):\", v1 @ v2)\n",
    "\n",
    "if __name__ == \"__main__\":\n",
    "    main()\n"
   ]
  },
  {
   "cell_type": "code",
   "execution_count": null,
   "metadata": {
    "id": "oUotRWZfAg_c"
   },
   "outputs": [],
   "source": []
  }
 ],
 "metadata": {
  "colab": {
   "authorship_tag": "ABX9TyPdokcF8HLVAfO8UW9BErGr",
   "provenance": []
  },
  "kernelspec": {
   "display_name": "Python 3",
   "name": "python3"
  },
  "language_info": {
   "name": "python"
  }
 },
 "nbformat": 4,
 "nbformat_minor": 0
}
