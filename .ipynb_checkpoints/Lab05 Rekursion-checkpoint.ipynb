{
 "cells": [
  {
   "cell_type": "code",
   "execution_count": null,
   "metadata": {
    "id": "i-wAbCzeHjCa"
   },
   "outputs": [],
   "source": [
    "# Fibonacci-Folge: Rekursive vs. Iterative Implementierung\n",
    "\n",
    "import timeit\n",
    "\n",
    "def fibonacci_rekursiv(n):\n",
    "    \"\"\"TODO: Implementieren Sie die rekursive Berechnung der Fibonacci-Zahl\"\"\"\n",
    "    if n <= 1:\n",
    "            return n\n",
    "    return fibonacci_rekursiv(n - 1) + fibonacci_rekursiv(n - 2)\n",
    "\n",
    "\n",
    "def fibonacci_iterativ(n):\n",
    "    \"\"\"TODO: Implementieren Sie die iterative Berechnung der Fibonacci-Zahl\"\"\"\n",
    "    if n <= 1\n",
    "        return n\n",
    "    a, b = 0, 1\n",
    "    for_in range (2, n + 1):\n",
    "        a, b = b, a + b\n",
    "    return b\n",
    "\n",
    "def fibonacci_rek_memo(n, speicher={None}):\n",
    "    \"\"\"TODO: Implementieren Sie die optimierte rekursive Berechnung mit Memoization\"\"\"\n",
    "    if speicher is None:\n",
    "        speicher = {}\n",
    "    if n in speicher:\n",
    "        return speicher[n]\n",
    "    if n <= 1:\n",
    "        speicher[n] = n\n",
    "    else:\n",
    "        speicher[n] = fibonacci_rek_memo(n - 1, speicher) + fibonacci_rek_memo(n - 2, speicher)\n",
    "    return speicher[n]\n",
    "\n",
    "# Laufzeitmessung\n",
    "n = 30\n",
    "print(f\"Rekursive Fibonacci ({n}): {timeit.timeit(lambda: fibonacci_rekursiv(n), number=1):.10f} Sekunden\")\n",
    "print(f\"Iterative Fibonacci ({n}): {timeit.timeit(lambda: fibonacci_iterativ(n), number=1):.10f} Sekunden\")\n",
    "print(f\"Memoized Fibonacci ({n}): {timeit.timeit(lambda: fibonacci_rek_memo(n), number=1):.10f} Sekunden\")\n"
   ]
  },
  {
   "cell_type": "code",
   "execution_count": null,
   "metadata": {
    "id": "-Vdcutq6Hu5G"
   },
   "outputs": [],
   "source": []
  }
 ],
 "metadata": {
  "colab": {
   "authorship_tag": "ABX9TyOpiM738+6zrROp0wzGNTyF",
   "provenance": []
  },
  "kernelspec": {
   "display_name": "Python 3",
   "name": "python3"
  },
  "language_info": {
   "name": "python"
  }
 },
 "nbformat": 4,
 "nbformat_minor": 0
}
